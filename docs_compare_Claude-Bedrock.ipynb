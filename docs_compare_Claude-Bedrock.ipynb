{
 "cells": [
  {
   "cell_type": "markdown",
   "id": "f3edb897-9342-4486-bba8-1ecfdbb95780",
   "metadata": {},
   "source": [
    "This notebook is showing how to compare different Italian documents from the insurance domain in order to extract the differences.\n",
    "It uses Amazon Bedrock Claude 2.1 LLM model, the LangChain library and the FAISS lib for storing and retrieving the embeddings (vectors).\n",
    "It was tested in the SageMaker Python 3 (Data Science 3.0) kernel, using the ml.c5.xlarge instance (4 vCPU + 8 GB RAM).\n",
    "The insurance pdf files were taken from the public website and I don't own them."
   ]
  },
  {
   "cell_type": "code",
   "execution_count": 2,
   "id": "77fa56e2-cc3a-494e-ad19-cafdcf25171b",
   "metadata": {
    "tags": []
   },
   "outputs": [
    {
     "name": "stdout",
     "output_type": "stream",
     "text": [
      "\u001b[33mWARNING: Running pip as the 'root' user can result in broken permissions and conflicting behaviour with the system package manager. It is recommended to use a virtual environment instead: https://pip.pypa.io/warnings/venv\u001b[0m\u001b[33m\n",
      "\u001b[0m\u001b[33mWARNING: Running pip as the 'root' user can result in broken permissions and conflicting behaviour with the system package manager. It is recommended to use a virtual environment instead: https://pip.pypa.io/warnings/venv\u001b[0m\u001b[33m\n",
      "\u001b[0m\u001b[33mWARNING: Running pip as the 'root' user can result in broken permissions and conflicting behaviour with the system package manager. It is recommended to use a virtual environment instead: https://pip.pypa.io/warnings/venv\u001b[0m\u001b[33m\n",
      "\u001b[0m\u001b[33mWARNING: Running pip as the 'root' user can result in broken permissions and conflicting behaviour with the system package manager. It is recommended to use a virtual environment instead: https://pip.pypa.io/warnings/venv\u001b[0m\u001b[33m\n",
      "\u001b[0m\u001b[33mWARNING: Running pip as the 'root' user can result in broken permissions and conflicting behaviour with the system package manager. It is recommended to use a virtual environment instead: https://pip.pypa.io/warnings/venv\u001b[0m\u001b[33m\n",
      "\u001b[0m\u001b[33mWARNING: Running pip as the 'root' user can result in broken permissions and conflicting behaviour with the system package manager. It is recommended to use a virtual environment instead: https://pip.pypa.io/warnings/venv\u001b[0m\u001b[33m\n",
      "\u001b[0m"
     ]
    }
   ],
   "source": [
    "! pip install --upgrade pip --quiet\n",
    "##! pip install boto3==1.28.64 --quiet\n",
    "! pip install boto3 --quiet\n",
    "! pip install langchain --quiet\n",
    "! pip install anthropic --quiet\n",
    "! pip install amazon-textract-textractor --quiet\n",
    "! pip install faiss-cpu transformers --quiet"
   ]
  },
  {
   "cell_type": "code",
   "execution_count": 3,
   "id": "d148976b-230c-41ea-b6e5-3ad1004278f4",
   "metadata": {},
   "outputs": [
    {
     "name": "stdout",
     "output_type": "stream",
     "text": [
      "sagemaker.config INFO - Not applying SDK defaults from location: /etc/xdg/sagemaker/config.yaml\n",
      "sagemaker.config INFO - Not applying SDK defaults from location: /root/.config/sagemaker/config.yaml\n"
     ]
    }
   ],
   "source": [
    "import base64\n",
    "import boto3 \n",
    "import sagemaker\n",
    "from pprint import pprint\n",
    "#import lib.utils as utils\n",
    "from IPython.display import JSON\n",
    "import importlib\n",
    "#importlib.reload(utils)\n",
    "# importlib.reload(boto3)"
   ]
  },
  {
   "cell_type": "code",
   "execution_count": 4,
   "id": "c9eda874-9a50-4c12-87c5-f03b5dbb9d85",
   "metadata": {},
   "outputs": [],
   "source": [
    "from langchain.prompts import PromptTemplate\n",
    "from langchain.llms.bedrock import Bedrock\n",
    "from langchain.document_loaders import AmazonTextractPDFLoader"
   ]
  },
  {
   "cell_type": "code",
   "execution_count": 5,
   "id": "8e9f9d3d-bfc7-4942-83d5-caf94c395d87",
   "metadata": {},
   "outputs": [
    {
     "name": "stdout",
     "output_type": "stream",
     "text": [
      "sagemaker.config INFO - Not applying SDK defaults from location: /etc/xdg/sagemaker/config.yaml\n",
      "sagemaker.config INFO - Not applying SDK defaults from location: /root/.config/sagemaker/config.yaml\n",
      "sagemaker.config INFO - Not applying SDK defaults from location: /etc/xdg/sagemaker/config.yaml\n",
      "sagemaker.config INFO - Not applying SDK defaults from location: /root/.config/sagemaker/config.yaml\n"
     ]
    }
   ],
   "source": [
    "bedrock_client = boto3.client(\"bedrock-runtime\", region_name='us-east-1')\n",
    "data_bucket = sagemaker.Session().default_bucket()\n",
    "role = sagemaker.get_execution_role()\n"
   ]
  },
  {
   "cell_type": "code",
   "execution_count": 6,
   "id": "851b755b-6a68-427e-bfc9-f8e40a0119cb",
   "metadata": {
    "tags": []
   },
   "outputs": [
    {
     "name": "stdout",
     "output_type": "stream",
     "text": [
      "2023-12-15 17:14:48    5042639 3_insurances_merged.pdf\n",
      "2023-12-15 17:14:48    2293574 AXA_Azienda_Protetta_2022.pdf\n",
      "2023-12-15 17:14:48    1890484 Allianz-Impresa-Sicura-SI.pdf\n",
      "2023-12-15 17:14:48     679494 GeneraIi_Impresa_Multigaranzia.pdf\n"
     ]
    }
   ],
   "source": [
    "!aws s3 cp docs s3://{data_bucket}/genai --recursive --only-show-errors\n",
    "!aws s3 ls s3://{data_bucket}/genai/"
   ]
  },
  {
   "cell_type": "code",
   "execution_count": 7,
   "id": "a79e5c6d-f560-41a1-8b7b-6442cbd01ad4",
   "metadata": {
    "tags": []
   },
   "outputs": [
    {
     "name": "stdout",
     "output_type": "stream",
     "text": [
      "Textract extracted 120 pages from the document\n"
     ]
    }
   ],
   "source": [
    "from langchain.document_loaders import AmazonTextractPDFLoader\n",
    "loader = AmazonTextractPDFLoader(f\"s3://{data_bucket}/genai/Allianz-Impresa-Sicura-SI.pdf\")\n",
    "document = loader.load()\n",
    "print(f\"Textract extracted {len(document)} pages from the document\")"
   ]
  },
  {
   "cell_type": "code",
   "execution_count": 8,
   "id": "f7619a96-8bb2-4695-be11-b5dd53cc4577",
   "metadata": {
    "tags": []
   },
   "outputs": [
    {
     "data": {
      "text/plain": [
       "<enumerate at 0x7fc0443b3c80>"
      ]
     },
     "execution_count": 8,
     "metadata": {},
     "output_type": "execute_result"
    }
   ],
   "source": [
    "enumerate(document)\n"
   ]
  },
  {
   "cell_type": "code",
   "execution_count": 9,
   "id": "92b2826a-7f98-44d6-b599-568cf4c4eaf9",
   "metadata": {
    "tags": []
   },
   "outputs": [
    {
     "name": "stdout",
     "output_type": "stream",
     "text": [
      "=========Page 1==========\n",
      "Allianz\n",
      "M\n",
      "Assicurazione contro i danni\n",
      "DIP Documento Informativo relativo al prodotto assicurativo\n",
      "Compagnia: Allianz S.p.A.\n",
      "Prodotto: \"Impresa Sicura\"\n",
      "Le informazioni precontrattuali e contrattuali complete relative al prodotto sono fornite in altri documenti.\n",
      "Che tipo di assicurazione è?\n",
      "È un'assicurazione contro i danni che offre una serie di coperture assicurative Incendio-All Risks, Indennità da interruzione\n",
      "di attività, Furto e Rapina, Responsabilità Civile dell'esercizio dell'attività, Responsabilità Civile della proprietà del\n",
      "fabbricato, Tutela legale, Assistenza.\n",
      "Che cosa è assicurato?\n",
      "Che cosa non è assicurato?\n",
      "Sezione Incendio All Risk: danni materiali e\n",
      "Sezione Incendio-All Risks: fabbricato in cui\n",
      "diretti alle Cose assicurate;\n",
      "sono posti i locali e relativo contenuto con\n",
      "Sezione Indennità da interruzione di\n",
      "caratteristiche costruttive difformi rispetto a\n",
      "attività: danni indiretti a seguito di Sinistro\n",
      "quanto indicato nel DIP aggiuntivo Danni alla\n",
      "indennizzabile a termini della Sezione\n",
      "sezione \"Che cosa non è assicurato/Condizioni\n",
      "Incendio-All Risks;\n",
      "di operatività\"; fabbricato adibito ad attività\n",
      "Sezione Furto e Rapina: danni materiali e\n",
      "diversa da quella indicata in Scheda di Polizza;\n",
      "diretti alle Cose assicurate derivanti da\n",
      "x\n",
      "Sezione Indennità da interruzione di attività:\n",
      "Furto e Rapina;\n",
      "fallimento societario, ammissione a procedure\n",
      "Sezione Responsabilità Civile dell'esercizio\n",
      "concorsuali, cessazione dell'attività, cessione\n",
      "dell'attività: danni involontariamente\n",
      "totale o parziale dell'attività;\n",
      "cagionati a terzi in relazione all'esercizio\n",
      "x\n",
      "Sezione Furto e Rapina: contenuto posto in\n",
      "dell'attività indicata in Scheda di Polizza;\n",
      "locali con caratteristiche costruttive e/o mezzi\n",
      "Sezione Responsabilità Civile proprietà del\n",
      "di protezione e di chiusura difformi rispetto a\n",
      "fabbricato: danni involontariamente\n",
      "quanto indicato nel DIP aggiuntivo Danni alla\n",
      "cagionati a terzi in relazione alla proprietà e\n",
      "sezione \"Che cosa non è assicurato/Condizioni\n",
      "alla conduzione del fabbricato indicato in\n",
      "di operatività\"; contenuto posto in locali adibiti\n",
      "Scheda di Polizza;\n",
      "ad attività diversa da quella indicata in Scheda\n",
      "Sezione Tutela Legale: oneri relativi\n",
      "di Polizza;\n",
      "all'assistenza giudiziale e stragiudiziale in\n",
      "x\n",
      "Sezione Responsabilità Civile dell'esercizio\n",
      "relazione all'esercizio dell'attività e/o alla\n",
      "dell'attività: responsabilità per fatti inerenti\n",
      "proprietà o locazione dei locali indicati\n",
      "attività diversa da quella indicata in Scheda di\n",
      "indicata in Scheda di Polizza;\n",
      "Polizza;\n",
      "Sezione Assistenza: prestazioni di\n",
      "x\n",
      "Sezione Responsabilità Civile proprietà del\n",
      "assistenza a favore dell'azienda assicurata.\n",
      "fabbricato: responsabilità per fatti inerenti la\n",
      "proprietà e la conduzione di fabbricato diverso\n",
      "Con riferimento alle Sezioni Incendio All-Risks,\n",
      "da quello indicato in Scheda di Polizza;\n",
      "Furto e Rapina, Responsabilità Civile\n",
      "x\n",
      "Sezione Tutela legale: pagamento di multe,\n",
      "dell'esercizio dell'attività, Responsabilità Civile\n",
      "ammende, sanzioni pecuniarie comminate in\n",
      "proprietà del fabbricato e Tutela legale, il\n",
      "via amministrativa, sanzioni pecuniarie\n",
      "prodotto offre ulteriori garanzie indicate nel\n",
      "sostitutive di pene detentive brevi, spese\n",
      "DIP aggiuntivo Danni alla sezione \"Che cosa è\n",
      "connesse all'esecuzione di pene detentive e\n",
      "assicurato?/Opzioni con pagamento di un\n",
      "alla custodia di cose;\n",
      "premio aggiuntivo\".\n",
      "x\n",
      "Sezione Assistenza: servizio pubblico di pronto\n",
      "intervento.\n",
      "L'assicurazione è prestata entro i limiti delle\n",
      "somme assicurate e dei massimali\n",
      "puntualmente indicati nella Scheda di Polizza.\n",
      "Ci sono limiti di copertura?\n",
      "Si, sono presenti esclusioni, franchigie,\n",
      "scoperti, limiti di indennizzo, per il cui\n",
      "dettaglio si rimanda alla sezione \"Ci sono limiti\n",
      "di copertura?\" del DIP aggiuntivo Danni.\n",
      "DIP-454-ed.01012019\n",
      "1\n",
      "\n",
      "\n"
     ]
    }
   ],
   "source": [
    "for index,page in enumerate(document):\n",
    "    if index >= 1:\n",
    "        break\n",
    "    print(f\"=========Page {index+1}==========\")\n",
    "    print(page.page_content)\n",
    "    print(\"\\n\")"
   ]
  },
  {
   "cell_type": "code",
   "execution_count": 10,
   "id": "44c3566d-af6a-4460-964b-1c58a33ffd4d",
   "metadata": {
    "tags": []
   },
   "outputs": [
    {
     "name": "stdout",
     "output_type": "stream",
     "text": [
      "==== Chunk 1, From Page 1 ====\n",
      "Allianz\n",
      "M\n",
      "Assicurazione contro i danni\n",
      "DIP Documento Informativo relativo al prodotto assicurativo\n",
      "Compagnia: Allianz S.p.A.\n",
      "Prodotto: \"Impresa Sicura\"\n",
      "Le informazioni precontrattuali e contrattuali complete relative al prodotto sono fornite in altri documenti.\n",
      "Che tipo di assicurazione è?\n",
      "È un'assicurazione contro i danni che offre una serie di coperture assicurative Incendio-All Risks, Indennità da interruzione\n",
      "di attività, Furto e Rapina, Responsabilità Civile dell'esercizio dell'attività, Responsabilità Civile della proprietà del\n",
      "fabbricato, Tutela legale, Assistenza.\n",
      "Che cosa è assicurato?\n",
      "Che cosa non è assicurato?\n",
      "Sezione Incendio All Risk: danni materiali e\n",
      "Sezione Incendio-All Risks: fabbricato in cui\n",
      "diretti alle Cose assicurate;\n",
      "sono posti i locali e relativo contenuto con\n",
      "Sezione Indennità da interruzione di\n",
      "caratteristiche costruttive difformi rispetto a\n",
      "attività: danni indiretti a seguito di Sinistro\n",
      "quanto indicato nel DIP aggiuntivo Danni alla\n",
      "\n",
      "\n",
      "==== Chunk 2, From Page 1 ====\n",
      "Sezione Indennità da interruzione di\n",
      "caratteristiche costruttive difformi rispetto a\n",
      "attività: danni indiretti a seguito di Sinistro\n",
      "quanto indicato nel DIP aggiuntivo Danni alla\n",
      "indennizzabile a termini della Sezione\n",
      "sezione \"Che cosa non è assicurato/Condizioni\n",
      "Incendio-All Risks;\n",
      "di operatività\"; fabbricato adibito ad attività\n",
      "Sezione Furto e Rapina: danni materiali e\n",
      "diversa da quella indicata in Scheda di Polizza;\n",
      "diretti alle Cose assicurate derivanti da\n",
      "x\n",
      "Sezione Indennità da interruzione di attività:\n",
      "Furto e Rapina;\n",
      "fallimento societario, ammissione a procedure\n",
      "Sezione Responsabilità Civile dell'esercizio\n",
      "concorsuali, cessazione dell'attività, cessione\n",
      "dell'attività: danni involontariamente\n",
      "totale o parziale dell'attività;\n",
      "cagionati a terzi in relazione all'esercizio\n",
      "x\n",
      "Sezione Furto e Rapina: contenuto posto in\n",
      "dell'attività indicata in Scheda di Polizza;\n",
      "locali con caratteristiche costruttive e/o mezzi\n",
      "Sezione Responsabilità Civile proprietà del\n",
      "\n",
      "\n",
      "==== Chunk 3, From Page 1 ====\n",
      "x\n",
      "Sezione Furto e Rapina: contenuto posto in\n",
      "dell'attività indicata in Scheda di Polizza;\n",
      "locali con caratteristiche costruttive e/o mezzi\n",
      "Sezione Responsabilità Civile proprietà del\n",
      "di protezione e di chiusura difformi rispetto a\n",
      "fabbricato: danni involontariamente\n",
      "quanto indicato nel DIP aggiuntivo Danni alla\n",
      "cagionati a terzi in relazione alla proprietà e\n",
      "sezione \"Che cosa non è assicurato/Condizioni\n",
      "alla conduzione del fabbricato indicato in\n",
      "di operatività\"; contenuto posto in locali adibiti\n",
      "Scheda di Polizza;\n",
      "ad attività diversa da quella indicata in Scheda\n",
      "Sezione Tutela Legale: oneri relativi\n",
      "di Polizza;\n",
      "all'assistenza giudiziale e stragiudiziale in\n",
      "x\n",
      "Sezione Responsabilità Civile dell'esercizio\n",
      "relazione all'esercizio dell'attività e/o alla\n",
      "dell'attività: responsabilità per fatti inerenti\n",
      "proprietà o locazione dei locali indicati\n",
      "attività diversa da quella indicata in Scheda di\n",
      "indicata in Scheda di Polizza;\n",
      "Polizza;\n",
      "Sezione Assistenza: prestazioni di\n",
      "x\n",
      "\n",
      "\n"
     ]
    }
   ],
   "source": [
    "from langchain.text_splitter import RecursiveCharacterTextSplitter\n",
    "\n",
    "text_splitter = RecursiveCharacterTextSplitter(chunk_size=1000,\n",
    "                                               separators=[\"\\n\\n\", \"\\n\", \".\", \"!\", \"?\", \",\", \" \", \"\"],\n",
    "                                               chunk_overlap=200)\n",
    "texts = text_splitter.split_documents(document)\n",
    "\n",
    "for index, text in enumerate(texts):\n",
    "    if index >= 3:\n",
    "        break\n",
    "    print(f\"==== Chunk {index+1}, From Page {text.metadata['page']} ====\")\n",
    "    print(text.page_content)\n",
    "    print(\"\\n\")"
   ]
  },
  {
   "cell_type": "code",
   "execution_count": 11,
   "id": "4cc87d93-bff4-4ea9-992a-93888cff7adc",
   "metadata": {
    "tags": []
   },
   "outputs": [
    {
     "name": "stdout",
     "output_type": "stream",
     "text": [
      "amazon.titan-e1t-medium\n",
      "amazon.titan-embed-g1-text-02\n",
      "amazon.titan-embed-text-v1:2:8k\n",
      "amazon.titan-embed-text-v1\n",
      "amazon.titan-embed-image-v1:0\n",
      "amazon.titan-embed-image-v1\n",
      "cohere.embed-english-v3\n",
      "cohere.embed-multilingual-v3\n"
     ]
    }
   ],
   "source": [
    "#Here I only check what models are available in the used region (US-East-1) and what to use\n",
    "br = boto3.client('bedrock')\n",
    "resp = br.list_foundation_models(\n",
    "    byOutputModality='EMBEDDING'\n",
    ")\n",
    "for model in resp['modelSummaries']:\n",
    "    print(model['modelId'])"
   ]
  },
  {
   "cell_type": "code",
   "execution_count": 12,
   "id": "3c526613-2c68-4693-ac97-ddcece902649",
   "metadata": {
    "tags": []
   },
   "outputs": [],
   "source": [
    "from langchain.embeddings import BedrockEmbeddings\n",
    "\n",
    "embeddings = BedrockEmbeddings(client=bedrock_client)"
   ]
  },
  {
   "cell_type": "code",
   "execution_count": 13,
   "id": "319fe9a2-5b13-4a94-9531-d074d9778641",
   "metadata": {
    "tags": []
   },
   "outputs": [],
   "source": [
    "from langchain.vectorstores import FAISS\n",
    "\n",
    "embeddings = BedrockEmbeddings(client=bedrock_client,model_id=\"amazon.titan-embed-text-v1\")\n",
    "vector_db = FAISS.from_documents(documents=texts, embedding=embeddings)"
   ]
  },
  {
   "cell_type": "code",
   "execution_count": 14,
   "id": "e58e565f-2ac4-4a19-9ca5-726e23f6bc57",
   "metadata": {},
   "outputs": [],
   "source": [
    "# to delete the vector index from the SageMaker instance memory use:\n",
    "# vector_db.delete([vector_db.index_to_docstore_id[0]])"
   ]
  },
  {
   "cell_type": "code",
   "execution_count": 15,
   "id": "c778a88e-7720-4c51-8798-fde31c6171b8",
   "metadata": {
    "tags": []
   },
   "outputs": [],
   "source": [
    "query = \"Che differenze ci sono tra le polizze assicurative Generali e Allianz relativamente agli Eventi atmosferici. Fornisci piu dettagli possibili per le coperture, franchigie e massimal\"\n",
    "docs = vector_db.similarity_search(query)"
   ]
  },
  {
   "cell_type": "code",
   "execution_count": 16,
   "id": "a2c4ed32-5a03-4814-915b-c0aad71de86c",
   "metadata": {
    "tags": []
   },
   "outputs": [
    {
     "data": {
      "text/plain": [
       "[Document(page_content='Allianz\\nCondizioni di assicurazione\\nL\\'Impresa risponde dei danni al Macchinario posto all\\'aperto, collocato all\\'interno dell\\'area aziendale od in spazi ove si\\nsvolge l\\'Attività dichiarata adiacenti ai locali dell\\'Ubicazione indicata nella Scheda di Polizza, qualora lo stesso sia\\ninamovibile ed ideato e destinato ad un uso esterno.\\nArt. 3.9 Estensione Eventi atmosferici su Macchinario all\\'aperto\\nA integrazione e a parziale deroga di quanto previsto dall\\'articolo 3.8 \"Eventi atmosferici\". sono compresi danni\\nmateriali e diretti causati al Macchinario amovibile, ideato e destinato ad un uso esterno, posto all\\'aperto all\\'interno\\ndell\\'area aziendale od in spazi ove si svolge l\\'Attività dichiarata ed adiacenti ai locali dell\\'Ubicazione indicata nella Scheda\\ndi Polizza, verificatisi per effetto di eventi atmosferici quali uragano, bufera, ciclone, tempesta, trombe d\\'aria, vento e cose\\nda esso trasportate o fatte crollare, grandine, pioggia, neve.\\nSono in ogni caso esclusi danni subiti da:', metadata={'source': 's3://sagemaker-us-east-1-174976546647/genai/Allianz-Impresa-Sicura-SI.pdf', 'page': 63}),\n",
       " Document(page_content='Allianz\\nCondizioni di assicurazione\\nNel caso che, in conseguenza degli eventi di cui ai comma b) e c) derivi altro danno indennizzabile ai sensi della presente\\nSezione, l\\'Impresa indennizzerà solo la parte di danno non altrimenti esclusa.\\nGARANZIE AGGIUNTIVE OPZIONALI\\nOltre a quanto previsto nei precedenti articoli, sono altresì operanti le seguenti garanzie aggiuntive opzionali, sempreché\\nsiano state richiamate nella Scheda di Polizza e corrisposto il relativo Premio, con le Somme assicurate, i limiti di\\nIndennizzo, le Franchigie e gli Scoperti ivi indicati.\\nArt. 3.6 Eventi socio-politici, atti vandalici e dolosi, terrorismo\\nA parziale deroga di quanto disposto dall\\'articolo 3.5 \"Le esclusioni della copertura assicurativa\", lettera a), della\\npresente Sezione, sono compresi danni materiali e diretti causati alle Cose assicurate da atti vandalici o dolosi, eventi\\nsocio-politici quali tumulti popolari, scioperi e sommosse, Terrorismo e sabotaggio.\\nL\\'Impresa non risponde dei danni:', metadata={'source': 's3://sagemaker-us-east-1-174976546647/genai/Allianz-Impresa-Sicura-SI.pdf', 'page': 62}),\n",
       " Document(page_content=\"Allianz\\nCondizioni di assicurazione\\nArt. 7.10 Pluralità di assicurati\\nQualora l'Assicurazione venga prestata per una pluralità di Assicurati, il Massimale assicurato stabilito in Polizza per il\\ndanno cui si riferisce la domanda di risarcimento resta per ogni effetto unico, anche nel caso di corresponsabilità di più\\nAssicurati.\\nArt. 7.11 Calcolo del Premio\\nRelativamente alle garanzie previste dalla presente Sezione, il Premio è convenuto sulla base del valore di ricostruzione del\\nfabbricato, che dovrà corrispondere al Valore a nuovo, così come dichiarato dal Contraente ed indicato nella Scheda di\\nPolizza.\\n(Valido se presente l'estensione di garanzia Responsabilità Civile della proprietà del fabbricato ai locali della abitazione dell'Assicurato)\\nArt. 7.12 Destinazione dei locali\\nL'assicurazione sulla Responsabilità Civile derivante dalla proprietà dei locali, si estende ai locali presenti nella Ubicazione e\\ndestinati a civile abitazione di proprietà dell'Assicurato.\", metadata={'source': 's3://sagemaker-us-east-1-174976546647/genai/Allianz-Impresa-Sicura-SI.pdf', 'page': 105}),\n",
       " Document(page_content='finanziaria, che siano assicurate con la presente Polizza per gli stessi eventi.\\n6. SEZIONE RESPONSABILITA\\' CIVILE DELL\\'ESERCIZIO DELL\\'ATTIVITA\\'\\nArt. 6.1 Chi e cosa assicuriamo\\nLa copertura assicurativa vale per l\\'Assicurato identificato nella Scheda di Polizza che l\\'Impresa tiene indenne di quanto\\nquesti, quale civilmente responsabile ai sensi di legge, sia tenuto a pagare a titolo di risarcimento (capitale, interessi,\\nspese) per danni involontariamente cagionati a terzi per morte, lesioni personali, distruzione o deterioramento materiale di\\nCose in conseguenza di un Sinistro verificatosi in relazione ai casi disciplinati all\\'articolo 6.2 \"Le prestazioni della\\ncopertura assicurativa\" fatto salvo quanto espressamente escluso dal seguente articolo 6.3 \"Le esclusioni della copertura\\nassicurativa\"\\nArt. 6.2 Le prestazioni della copertura assicurativa\\nL\\'Impresa si obbliga, fino a concorrenza dei massimali/limiti di Indennizzo e con l\\'applicazione delle Franchigie/Scopert', metadata={'source': 's3://sagemaker-us-east-1-174976546647/genai/Allianz-Impresa-Sicura-SI.pdf', 'page': 93})]"
      ]
     },
     "execution_count": 16,
     "metadata": {},
     "output_type": "execute_result"
    }
   ],
   "source": [
    "docs"
   ]
  },
  {
   "cell_type": "code",
   "execution_count": 17,
   "id": "c0977328-3ab2-4953-8deb-a0dec9385a20",
   "metadata": {
    "tags": []
   },
   "outputs": [
    {
     "data": {
      "text/plain": [
       "[(Document(page_content='Allianz\\nCondizioni di assicurazione\\nL\\'Impresa risponde dei danni al Macchinario posto all\\'aperto, collocato all\\'interno dell\\'area aziendale od in spazi ove si\\nsvolge l\\'Attività dichiarata adiacenti ai locali dell\\'Ubicazione indicata nella Scheda di Polizza, qualora lo stesso sia\\ninamovibile ed ideato e destinato ad un uso esterno.\\nArt. 3.9 Estensione Eventi atmosferici su Macchinario all\\'aperto\\nA integrazione e a parziale deroga di quanto previsto dall\\'articolo 3.8 \"Eventi atmosferici\". sono compresi danni\\nmateriali e diretti causati al Macchinario amovibile, ideato e destinato ad un uso esterno, posto all\\'aperto all\\'interno\\ndell\\'area aziendale od in spazi ove si svolge l\\'Attività dichiarata ed adiacenti ai locali dell\\'Ubicazione indicata nella Scheda\\ndi Polizza, verificatisi per effetto di eventi atmosferici quali uragano, bufera, ciclone, tempesta, trombe d\\'aria, vento e cose\\nda esso trasportate o fatte crollare, grandine, pioggia, neve.\\nSono in ogni caso esclusi danni subiti da:', metadata={'source': 's3://sagemaker-us-east-1-174976546647/genai/Allianz-Impresa-Sicura-SI.pdf', 'page': 63}),\n",
       "  100.341354),\n",
       " (Document(page_content='Allianz\\nCondizioni di assicurazione\\nNel caso che, in conseguenza degli eventi di cui ai comma b) e c) derivi altro danno indennizzabile ai sensi della presente\\nSezione, l\\'Impresa indennizzerà solo la parte di danno non altrimenti esclusa.\\nGARANZIE AGGIUNTIVE OPZIONALI\\nOltre a quanto previsto nei precedenti articoli, sono altresì operanti le seguenti garanzie aggiuntive opzionali, sempreché\\nsiano state richiamate nella Scheda di Polizza e corrisposto il relativo Premio, con le Somme assicurate, i limiti di\\nIndennizzo, le Franchigie e gli Scoperti ivi indicati.\\nArt. 3.6 Eventi socio-politici, atti vandalici e dolosi, terrorismo\\nA parziale deroga di quanto disposto dall\\'articolo 3.5 \"Le esclusioni della copertura assicurativa\", lettera a), della\\npresente Sezione, sono compresi danni materiali e diretti causati alle Cose assicurate da atti vandalici o dolosi, eventi\\nsocio-politici quali tumulti popolari, scioperi e sommosse, Terrorismo e sabotaggio.\\nL\\'Impresa non risponde dei danni:', metadata={'source': 's3://sagemaker-us-east-1-174976546647/genai/Allianz-Impresa-Sicura-SI.pdf', 'page': 62}),\n",
       "  107.4748),\n",
       " (Document(page_content=\"Allianz\\nCondizioni di assicurazione\\nArt. 7.10 Pluralità di assicurati\\nQualora l'Assicurazione venga prestata per una pluralità di Assicurati, il Massimale assicurato stabilito in Polizza per il\\ndanno cui si riferisce la domanda di risarcimento resta per ogni effetto unico, anche nel caso di corresponsabilità di più\\nAssicurati.\\nArt. 7.11 Calcolo del Premio\\nRelativamente alle garanzie previste dalla presente Sezione, il Premio è convenuto sulla base del valore di ricostruzione del\\nfabbricato, che dovrà corrispondere al Valore a nuovo, così come dichiarato dal Contraente ed indicato nella Scheda di\\nPolizza.\\n(Valido se presente l'estensione di garanzia Responsabilità Civile della proprietà del fabbricato ai locali della abitazione dell'Assicurato)\\nArt. 7.12 Destinazione dei locali\\nL'assicurazione sulla Responsabilità Civile derivante dalla proprietà dei locali, si estende ai locali presenti nella Ubicazione e\\ndestinati a civile abitazione di proprietà dell'Assicurato.\", metadata={'source': 's3://sagemaker-us-east-1-174976546647/genai/Allianz-Impresa-Sicura-SI.pdf', 'page': 105}),\n",
       "  113.26938)]"
      ]
     },
     "execution_count": 17,
     "metadata": {},
     "output_type": "execute_result"
    }
   ],
   "source": [
    "docs = vector_db.similarity_search_with_score(query, k = 3)\n",
    "docs"
   ]
  },
  {
   "cell_type": "code",
   "execution_count": 18,
   "id": "3c553092-64ff-41c2-a790-7806598ee1d8",
   "metadata": {
    "tags": []
   },
   "outputs": [
    {
     "data": {
      "text/plain": [
       "[Document(page_content='Allianz\\nCondizioni di assicurazione\\nL\\'Impresa risponde dei danni al Macchinario posto all\\'aperto, collocato all\\'interno dell\\'area aziendale od in spazi ove si\\nsvolge l\\'Attività dichiarata adiacenti ai locali dell\\'Ubicazione indicata nella Scheda di Polizza, qualora lo stesso sia\\ninamovibile ed ideato e destinato ad un uso esterno.\\nArt. 3.9 Estensione Eventi atmosferici su Macchinario all\\'aperto\\nA integrazione e a parziale deroga di quanto previsto dall\\'articolo 3.8 \"Eventi atmosferici\". sono compresi danni\\nmateriali e diretti causati al Macchinario amovibile, ideato e destinato ad un uso esterno, posto all\\'aperto all\\'interno\\ndell\\'area aziendale od in spazi ove si svolge l\\'Attività dichiarata ed adiacenti ai locali dell\\'Ubicazione indicata nella Scheda\\ndi Polizza, verificatisi per effetto di eventi atmosferici quali uragano, bufera, ciclone, tempesta, trombe d\\'aria, vento e cose\\nda esso trasportate o fatte crollare, grandine, pioggia, neve.\\nSono in ogni caso esclusi danni subiti da:', metadata={'source': 's3://sagemaker-us-east-1-174976546647/genai/Allianz-Impresa-Sicura-SI.pdf', 'page': 63}),\n",
       " Document(page_content='Allianz\\nDove vale la copertura?\\nSezione Incendio-All Risks/Furto e Rapina/ Responsabilità Civile proprietà del fabbricato: l\\'assicurazione vale\\nper le Cose ubicate nella Repubblica Italiana, nella Repubblica di San Marino e nello Stato della Città del\\nVaticano;\\nSezione Responsabilità Civile dell\\'esercizio dell\\'attività: l\\'assicurazione vale nel mondo intero esclusi USA e\\nCanada; relativamente alla garanzia aggiuntiva \"Responsabilità civile verso i prestatori di lavoro\" indicata nel\\nDIP aggiuntivo Danni alla sezione \"Che cosa è assicurato?/Opzioni con pagamento di un premio aggiuntivo\", la\\ncopertura è valida per il mondo intero;\\nSezione Tutela Legale: l\\'assicurazione vale per i fatti verificatisi in Europa e demandati processualemente\\nall\\'Autorità Giudiziaria di uno stato europeo, con esclusione di Paesi o zone in cui siano in atto fatti bellici;\\nSezione Assistenza: l\\'assicurazione offre diverse prestazioni per le strutture ubicate nella Repubblica Italiana,', metadata={'source': 's3://sagemaker-us-east-1-174976546647/genai/Allianz-Impresa-Sicura-SI.pdf', 'page': 2}),\n",
       " Document(page_content='trasporti pubblici in città, limitazione al trasporto aereo;\\ns) quarantene.\\nRelativamente alle sole prestazioni di cui alla Sezione \"Garanzia per l\\'impresa\\nassicurata\", sono escluse le prestazioni derivanti da:\\nt) difetti noti al Contraente e/o all\\'Assicurato, ai rappresentanti legali, agli\\namministratori o ai soci a responsabilità illimitata;\\nu)\\natti vandalici o dolosi, fatto salvo quanto disciplinato alla garanzia Invio di una guardia\\ngiurata e ripristino dei mezzi di chiusura, Invio di un vetraio;\\nv)\\npossibili problematiche legate a virus in grado di crittografare il disco rigido\\nSoggettiesclusi\\nSoggetti esclusi\\nSezione Responsabilità Civile dell\\'esercizio dell\\'attività\\nNon sono considerati terzi:\\na) il coniuge, il convivente more uxorio, genitori, figli dell\\'Assicurato, nonché qualsiasi\\naltro parente o affine con lui convivente;\\nb) se l\\'Assicurato non è una persona fisica, il legale rappresentante, i soci a responsabilità', metadata={'source': 's3://sagemaker-us-east-1-174976546647/genai/Allianz-Impresa-Sicura-SI.pdf', 'page': 34})]"
      ]
     },
     "execution_count": 18,
     "metadata": {},
     "output_type": "execute_result"
    }
   ],
   "source": [
    "retriever = vector_db.as_retriever(search_type='mmr', search_kwargs={\"k\": 3})\n",
    "relevant_docs = retriever.get_relevant_documents(query)   \n",
    "relevant_docs"
   ]
  },
  {
   "cell_type": "code",
   "execution_count": 19,
   "id": "d39aa07c-bfde-4ebd-bdd4-2d6ae4f7265a",
   "metadata": {
    "tags": []
   },
   "outputs": [],
   "source": [
    "full_context = str()\n",
    "for doc in relevant_docs:\n",
    "    full_context += doc.page_content+\" \"\n",
    "    \n",
    "#print(full_context.strip(\".\").strip())"
   ]
  },
  {
   "cell_type": "code",
   "execution_count": 20,
   "id": "e2cade76-0fb0-46e7-9e5d-a6899cd41f4f",
   "metadata": {
    "tags": []
   },
   "outputs": [
    {
     "data": {
      "text/plain": [
       "{'ResponseMetadata': {'RequestId': '2098c654-0ffe-4329-9e25-9770d99d3fe7',\n",
       "  'HTTPStatusCode': 200,\n",
       "  'HTTPHeaders': {'date': 'Fri, 15 Dec 2023 17:17:32 GMT',\n",
       "   'content-type': 'application/json',\n",
       "   'content-length': '386',\n",
       "   'connection': 'keep-alive',\n",
       "   'x-amzn-requestid': '2098c654-0ffe-4329-9e25-9770d99d3fe7'},\n",
       "  'RetryAttempts': 0},\n",
       " 'modelDetails': {'modelArn': 'arn:aws:bedrock:us-east-1::foundation-model/anthropic.claude-v2:1:200k',\n",
       "  'modelId': 'anthropic.claude-v2:1:200k',\n",
       "  'modelName': 'Claude',\n",
       "  'providerName': 'Anthropic',\n",
       "  'inputModalities': ['TEXT'],\n",
       "  'outputModalities': ['TEXT'],\n",
       "  'responseStreamingSupported': True,\n",
       "  'customizationsSupported': [],\n",
       "  'inferenceTypesSupported': ['PROVISIONED']}}"
      ]
     },
     "execution_count": 20,
     "metadata": {},
     "output_type": "execute_result"
    }
   ],
   "source": [
    "br.get_foundation_model(modelIdentifier='anthropic.claude-v2:1:200k')"
   ]
  },
  {
   "cell_type": "code",
   "execution_count": 21,
   "id": "1f4ac07e-2115-446b-bf9c-5092e5f6ace9",
   "metadata": {
    "tags": []
   },
   "outputs": [],
   "source": [
    "from langchain.document_loaders import AmazonTextractPDFLoader\n",
    "from langchain.llms import Bedrock\n",
    "from langchain.prompts import PromptTemplate\n",
    "from langchain.chains import LLMChain\n",
    "\n",
    "loader = AmazonTextractPDFLoader(f\"s3://{data_bucket}/genai/Allianz-Impresa-Sicura-SI.pdf\")\n",
    "#loader = AmazonTextractPDFLoader(f\"s3://{data_bucket}/genai/3_insurances_merged.pdf\")\n",
    "\n",
    "document1 = loader.load()\n",
    "\n"
   ]
  },
  {
   "cell_type": "code",
   "execution_count": 22,
   "id": "788fdc54-d09c-46a2-bded-fe251fa74175",
   "metadata": {
    "tags": []
   },
   "outputs": [],
   "source": [
    "loader2 = AmazonTextractPDFLoader(f\"s3://{data_bucket}/genai/GeneraIi_Impresa_Multigaranzia.pdf\")\n",
    "\n",
    "document2 = loader2.load()"
   ]
  },
  {
   "cell_type": "code",
   "execution_count": null,
   "id": "3b8cdb1d-80e0-490d-94ee-1f6341eb9e7b",
   "metadata": {
    "tags": []
   },
   "outputs": [],
   "source": []
  },
  {
   "cell_type": "code",
   "execution_count": 23,
   "id": "069ea648-b93d-4610-9d47-8584ae535222",
   "metadata": {
    "tags": []
   },
   "outputs": [
    {
     "data": {
      "text/plain": [
       "120"
      ]
     },
     "execution_count": 23,
     "metadata": {},
     "output_type": "execute_result"
    }
   ],
   "source": [
    "# print page numbers\n",
    "len(document1)"
   ]
  },
  {
   "cell_type": "code",
   "execution_count": 24,
   "id": "d0115662-5848-4f31-8f9e-e9751bc6efcb",
   "metadata": {
    "tags": []
   },
   "outputs": [
    {
     "data": {
      "text/plain": [
       "60"
      ]
     },
     "execution_count": 24,
     "metadata": {},
     "output_type": "execute_result"
    }
   ],
   "source": [
    "len(document2)"
   ]
  },
  {
   "cell_type": "code",
   "execution_count": null,
   "id": "4088e946-2851-40fa-bf84-8cf6b2d04685",
   "metadata": {
    "tags": []
   },
   "outputs": [],
   "source": []
  },
  {
   "cell_type": "code",
   "execution_count": 25,
   "id": "ed193c89-9bea-4369-befd-e81039b2818c",
   "metadata": {
    "tags": []
   },
   "outputs": [],
   "source": [
    "#query = \"Che differenze ci sono tra le polizze assicurative Generali e Allianz relativamente agli Eventi atmosferici. Fornisci piu dettagli possibili per le coperture, franchigie e massimal\"\n",
    "#query = \"che opzioni di coperatura assicurativa ci sono per il terremoto\"\n",
    "query = \"franchigie per incendio\" \n",
    "#query = \"quali sono le 10 differenze le polizze assicurative indicate?\""
   ]
  },
  {
   "cell_type": "code",
   "execution_count": 26,
   "id": "e1596cdb-3f40-426d-a814-388f47ad86fe",
   "metadata": {
    "tags": []
   },
   "outputs": [],
   "source": [
    "from langchain.text_splitter import RecursiveCharacterTextSplitter\n",
    "\n",
    "text_splitter1 = RecursiveCharacterTextSplitter(chunk_size=1000,\n",
    "                                               separators=[\"\\n\\n\", \"\\n\", \".\", \"!\", \"?\", \",\", \" \", \"\"],\n",
    "                                               chunk_overlap=0)\n",
    "\n",
    "texts1 = text_splitter1.split_documents(document1)\n",
    "texts2 = text_splitter1.split_documents(document2)\n",
    "\n",
    "\n",
    "#Input text and the embeddings engine using the FAISS to store it the Notebook's memory\n",
    "vector_db1 = FAISS.from_documents(documents=texts1, embedding=embeddings)\n",
    "vector_db2 = FAISS.from_documents(documents=texts2, embedding=embeddings)\n",
    "\n"
   ]
  },
  {
   "cell_type": "code",
   "execution_count": 27,
   "id": "7a99c480-4f2c-4c27-ba20-c153667f24b6",
   "metadata": {
    "tags": []
   },
   "outputs": [],
   "source": [
    "#docs1 = vector_db1.similarity_search_with_score(query, k = 100)\n",
    "#docs2 = vector_db2.similarity_search_with_score(query, k = 100)\n",
    "\n",
    "score = 0.90\n",
    "\n",
    "# Use \"mmr\" or \"similarity_score_threshold\"\n",
    "retriever1 = vector_db1.as_retriever(search_type='mmr', search_kwargs={\"k\": 30, \"score_threshold\" : score})\n",
    "retriever2 = vector_db2.as_retriever(search_type='mmr', search_kwargs={\"k\": 30, \"score_threshold\" : score})\n",
    "\n",
    "\n",
    "relevant_docs1 = retriever1.get_relevant_documents(query)\n",
    "relevant_docs2 = retriever2.get_relevant_documents(query)\n",
    "\n",
    "#relevant_docs2"
   ]
  },
  {
   "cell_type": "code",
   "execution_count": 28,
   "id": "21fe7735-86d2-41e1-a3e7-bd607b6a9a22",
   "metadata": {
    "tags": []
   },
   "outputs": [
    {
     "data": {
      "text/plain": [
       "[Document(page_content=\"Sezione Incendio-All Risks)\\nSezione\\nL'Impresa indennizza danni materiali e diretti in conseguenza di Furto e Rapina, tentati\\no\\nFurto e Rapina\\nconsumati, compresi i guasti cagionati dai ladri e danni derivanti da atti vandalici\\ncommessi durante il Furto e/o la Rapina o nel tentativo di commetterli; l'Impresa\\nindennizza inoltre una serie di spese, oneri e onorari resesi necessari a seguito di Furto e\\nRapina.\\nSezione\\nL'Impresa tiene indenne l'Assicurato, quale civilmente responsabile ai sensi di legge, di\\nResponsabilità Civile\\nquanto sia tenuto a pagare a titolo di risarcimento (capitale, interessi, spese) per danni\\ndell'esercizio dell'attività\\ninvolontariamente cagionati a terzi per morte, lesioni personali, distruzione o\\nDIPA-454-ed.21102023\\nPag. 1 di 41\", metadata={'source': 's3://sagemaker-us-east-1-174976546647/genai/Allianz-Impresa-Sicura-SI.pdf', 'page': 5}),\n",
       " Document(page_content=\"franchigie/scoperti eventualmente previsti nella Scheda di Polizza.\\nInfiammabili: le sostanze e prodotti (ad eccezione delle soluzioni idroalcoliche di gradazione non superiore a 35°\\ncentesimali) non classificabili Esplodenti che rispondono alle seguenti caratteristiche:\\ngas combustibili;\\nliquidi e solidi con punto di infiammabilità inferiore a 55° C;\\nossigeno, sostanze e prodotti decomponibili generanti ossigeno;\\nsostanze e prodotti che, a contatto con l'acqua o l'aria umida, sviluppano gas combustibili;\\nsostanze e prodotti che, anche in piccole quantità a condizioni normali ed a contatto con l'aria, spontaneamente si\\ninfiammano.\\nIl punto di infiammabilità si determina in base alle norme di cui al D.M. 17 dicembre 1977 allegato V e successive\\nmodifiche e/o integrazioni.\\nNon si considerano Infiammabili le merci proprie e prodotti finiti dell'Attività dichiarata.\\nInfissi: telai fissati al muro che racchiudono vani di porte o finestre.\", metadata={'source': 's3://sagemaker-us-east-1-174976546647/genai/Allianz-Impresa-Sicura-SI.pdf', 'page': 50}),\n",
       " Document(page_content=\"Franchigia: somma stabilita contrattualmente in cifra fissa, che rimane a carico dell'Assicurato e che viene dedotta\\ndall'ammontare del Danno liquidabile.\\nFinestratura: apertura in parete esterna chiusa da Serramento o Lastra fissa. Se realizzata in Tetto, Lucernario.\\nFurto: l'impossessarsi di cose mobili altrui, sottraendole a chi le detiene, al fine di trarne profitto per sé o per altri.\\nFurto con destrezza: il Furto commesso con particolare abilità in modo da eludere l'attenzione del derubato.\\n018\\nCondizioni di assicurazione Ed. 454 01/2019\\nImpresa Sicura\\nPagina 1 di 72\", metadata={'source': 's3://sagemaker-us-east-1-174976546647/genai/Allianz-Impresa-Sicura-SI.pdf', 'page': 49}),\n",
       " Document(page_content=\"Allianz\\nM\\nCaratteristiche costruttive\\nLe garanzie prestate nella Sezione Incendio-All Risks sono operanti purché l'attività\\ndel fabbricato\\nindicata in Scheda di Polizza sia svolta sottotetto ad un Fabbricato realizzato con:\\nstrutture portanti verticali, pareti esterne e Manto di copertura del Tetto in materiali\\nincombustibili. Le pareti esterne realizzate in vetro strutturale sono considerate pareti\\nesterne incombustibili;\\nstrutture portanti del Tetto e Solai anche in materiali combustibili;\\nFinestrature e Lucernari anche in materiali combustibili a condizione che la loro\\nsuperficie complessiva non ecceda rispettivamente 1/3 di quella delle pareti esterne\\ne delle coperture. Tale tolleranza è elevata al 40% allorchè trattasi di materia plastica\\nnon espansa o alveolare;\\ncoibentazioni, soffittature e rivestimenti in genere (ove presenti) anche in materia\\nplastica espansa o alveolare.\\nInoltre, quando le attività indicate in Scheda di Polizza contemplino la lavorazione del\", metadata={'source': 's3://sagemaker-us-east-1-174976546647/genai/Allianz-Impresa-Sicura-SI.pdf', 'page': 18}),\n",
       " Document(page_content=\"Incendio-All Risks\\nMerci in refrigerazione in\\nBanchi / Armadi frigoriferi\\nsenza sistemi di controllo\\nEsclusioni\\nNon sono previste esclusioni specifiche, ferma l'applicazione delle esclusioni della Sezione\\nGaranzia aggiuntiva\\nIncendio-All Risks\\nMerci in refrigerazione\\nconservate in celle\\nfrigorifere con sistema di\\ncontrollo\\nEsclusioni\\nNon sono previste esclusioni specifiche, ferma l'applicazione delle esclusioni della Sezione\\nGaranzia aggiuntiva\\nIncendio-All Risks\\nSpese Straordinarie\\nEsclusioni\\nNon sono previste esclusioni specifiche, ferma l'applicazione delle esclusioni della Sezione\\nGaranzia aggiuntiva\\nIncendio-All Risks\\nPerdita dei canoni di\\nlocazione\\nEsclusioni Sezione Indennità da interruzione di attività\\nEsclusioni\\nL'impresa non risponde dei danni derivanti da:\\nSezione Indennità da\\ncorrenti, scariche elettriche, sovratensioni ed altri fenomeni elettrici;\\ninterruzione di attività\\nTerremoto;\\nInondazione, Alluvione, allagamento non conseguente a rottura di impianti al servizio\", metadata={'source': 's3://sagemaker-us-east-1-174976546647/genai/Allianz-Impresa-Sicura-SI.pdf', 'page': 25}),\n",
       " Document(page_content='Franchigia\\ncarico/scarico anche presso\\nterzi\\nServizio di vigilanza\\nFranchigia\\neffettuato con guardiani\\nanche armati e /o cani\\nDanni da spargimento\\nScoperto\\nd\\'acqua e rigurgito\\nfognature\\nDanni a veicoli, cicli e\\nScoperto\\nmotocicli in consegna per\\nlavori di manutenzione o\\nriparazione\\nDanni subiti da veicoli\\nLimite di indennizzo\\nderivanti da caduta dal\\nScoperto\\nponte di sollevamento\\nDanni da furto agevolati da\\nLimite di indennizzo\\nimpalcature e ponteggi\\nScoperto\\nnell\\'ambito di atività\\nindicata in Scheda di Polizza\\ndel settore \"Edilizia\"\\nDanni da interruzione o\\nScoperto\\nsospensione di attività di\\nterzi\\nResponsabilità Civile verso i\\nFranchigia\\nPrestatori di lavoro\\nRicorso Terzi Incendio per\\nLimite di indennizzo\\ndanni avvenuti presso terzi\\nDanni alle cose portate e\\nLimite di indennizzo\\nconsegnate (ai sensi degli\\nFranchigia\\nartt. 1784 e 1786 del Codice\\nCivile)\\nDIPA-454-ed.21102023\\nPag. 34 di 41', metadata={'source': 's3://sagemaker-us-east-1-174976546647/genai/Allianz-Impresa-Sicura-SI.pdf', 'page': 38}),\n",
       " Document(page_content=\"svolta l'attività, sempreché saldamente fissati al suolo, posti entro il limite dell'Ubicazione e chiusi a chiave o con\\nlucchetti.\\nLa garanzia opera esclusivamente in caso di rottura, scasso o effrazione mediante uso di grimaldelli o arnesi simili, del\\ndistributore e/o della cassa.\\nLa garanzia è prestata a Primo rischio assoluto.\\nArt. 5.9 Furto di Merci contenute in vetrinette esterne\\nL'assicurazione è estesa ai danni materiali e diretti in conseguenza di Furto, tentato o consumato, delle Merci esposte nelle\\nvetrinette esterne amovibili, sempreché solidamente fissate nelle vicinanze dei locali stessi e chiuse a chiave o con\\nlucchetti.\\nLa garanzia opera esclusivamente in caso di rottura, scasso o effrazione mediante uso di grimaldelli o arnesi simili, della\\nvetrinetta e durante l'orario di apertura al pubblico e in presenza di Addetti all'attività oppure durante i periodi di chiusura\\ndiurna tra le ore 8.00 e le ore 20.00.\", metadata={'source': 's3://sagemaker-us-east-1-174976546647/genai/Allianz-Impresa-Sicura-SI.pdf', 'page': 85}),\n",
       " Document(page_content=\"dei Fondi Propri ammissibili per soddisfare il Requisito Patrimoniale Minimo (MCR), pari a 5.629 milioni di euro;\\ned il valore dell'Indice di solvibilità (solvency ratio) della Società, pari a 256%.\\nAl contratto si applica la legge italiana.\\nChe cosa è assicurato?\\nSezione\\nL'Impresa indennizza danni materiali e diretti alle Cose assicurate causati da Incendio\\ne\\nIncendio-All Risks\\nda qualsiasi altro evento, qualunque ne sia la causa; compresi guasti causati per ordine\\ndell'Autorità e quelli arrecati dal Contraente e/o dall'Assicurato nonché da altre persone\\nallo scopo di impedire o arrestare l'evento dannoso; l'Impresa indennizza inoltre una serie\\ndi spese, oneri e onorari resisi necessari a supporto della ricostruzione o del ripristino delle\\nCose assicurate distrutte o danneggiate.\\nSezione\\nL'Impresa indennizza danni indiretti derivanti da un Sinistro indennizzabile a termini della\\nIndennità da interruzione di\\nSezione Incendio-All Risks.\\nattività\\n(acquistabile solo in presenza della\", metadata={'source': 's3://sagemaker-us-east-1-174976546647/genai/Allianz-Impresa-Sicura-SI.pdf', 'page': 5}),\n",
       " Document(page_content=\"Allianz\\nGlossario\\nFurto con Rottura o Scasso: Furto commesso mediante rottura, forzatura o rimozione delle serrature e/o dei mezzi di\\nchiusura o di protezione dei locali e dei mobili contenenti le cose assicurate, oppure praticando una apertura o breccia nei\\nsoffitti, nei pavimenti o nei muri dei locali medesimi.\\nImplosione: repentino cedimento di contenitori o corpi cavi per carenza di pressione interna di fluidi rispetto a quella\\nesterna.\\nImpresa: Allianz S.p.A.\\nIncendio: combustione, con fiamma, di beni materiali al di fuori di appropriato focolare, che può auto-estendersi\\ne\\npropagarsi.\\nIncombustibili: le sostanze ed prodotti che, alla temperatura di 750° C, non danno luogo a manifestazione di fiamma né a\\nreazione esotermica. Il metodo di prova è quello adottato dal Centro Studi Esperienze del Ministero dell'Interno.\\nIndennizzo: somma dovuta dall'Impresa in caso di Sinistro, dopo l'applicazione al Danno liquidabile di limiti,\", metadata={'source': 's3://sagemaker-us-east-1-174976546647/genai/Allianz-Impresa-Sicura-SI.pdf', 'page': 50}),\n",
       " Document(page_content=\"Esplosione: sviluppo di gas o vapori ad alta temperatura e pressione, dovuto a reazione chimica che si autopropaga con\\nelevata velocità.\\nEstorsione (Reato di): l'impossessarsi della cosa mobile altrui, costringendo chi la detiene alla consegna mediante violenza\\nalla persona o minaccia, per procurare a sé o ad altri un ingiusto profitto con altrui danno. Ai fini dell'assicurazione, la\\nviolenza deve essere esercitata solo su persone e si intendono escluse attività criminali volte a ottenere il pagamento\\nperiodico di somme di denaro in cambio dell'offerta di protezione (racket) o riconducibili al Reato di usura.\\nFatto illecito: è il fatto, cagionato volontariamente (fatto illecito doloso) o con colpa (per negligenza, imperizia o\\nimprudenza, ovvero per inosservanza di leggi, regolamenti, ordini o discipline) da un soggetto, che è tenuto a risarcire il\\ndanno sulla base delle norme di legge indipendentemente dall'esistenza di rapporti contrattuali.\", metadata={'source': 's3://sagemaker-us-east-1-174976546647/genai/Allianz-Impresa-Sicura-SI.pdf', 'page': 49}),\n",
       " Document(page_content=\"Allianz\\nNelle inferriate e nei Serramenti sono ammesse Luci di dimensioni tali da non consentire\\nl'introduzione nei locali contenenti le Cose assicurate senza effrazione o divaricazione delle\\nrelative strutture.\\nSono esclusi i danni di Furto avvenuti quando, per qualsiasi motivo, non esistano o non\\nsiano operanti i mezzi di protezione e chiusura sopra descritti.\\nCi sono limiti di copertura?\\nESCLUSIONI\\nEsclusioni Sezione Incendio All Risks\\nEsclusioni\\nL'Impresa non è obbligata in alcun caso per i danni\\nSezione Incendio-All Risks\\na) causati da o dovuti a:\\ndolo del Contraente o dell'Assicurato ovvero, trattandosi di Società, dei soci\\nillimitatamente responsabili o degli Amministratori nonché del coniuge, del\\nconvivente more uxorio, dei genitori, dei figli, di qualsiasi altro parente o affine\\ncon lui convivente;\\natti di guerra dichiarata o non, occupazione o invasione militare, requisizione,\\nnazionalizzazione e confisca, guerra civile, rivoluzione, insurrezione, sequestri e/o\", metadata={'source': 's3://sagemaker-us-east-1-174976546647/genai/Allianz-Impresa-Sicura-SI.pdf', 'page': 19}),\n",
       " Document(page_content='del terreno, quando detto evento sia caratterizzato da violenza riscontrabile su una\\npluralità di enti, assicurati o non, posti nelle vicinanze;\\nb) allagamento verificatosi all\\'interno del Fabbricato a seguito di:\\nformazione di ruscelli o accumulo esterno di acqua;\\nfuoriuscita di liquidi, non dovuta a rottura, da impianti idrici, igienici, tecnici e di\\nriscaldamento.\\nGaranzia aggiuntiva\\nLa Somma assicurata alla partita Merci espressa a Valore intero, si intende aumentata per\\nMerci in aumento\\nil periodo e per il valore indicato in Scheda di Polizza\\ntemporaneo\\nGaranzia aggiuntiva\\nIn aumento a quanto previsto in Scheda di Polizza, purché siano acquistate le relative\\nMacchinario e merci presso\\npartite Macchinario e/o Merci e qualora l\\'attività indicata in Scheda di Polizza non rientri\\nterzi in aumento\\nnel settore \"Edilizia\", l\\'Impresa indennizza i danni materiali e diretti in conseguenza di\\nSinistro indennizzabile ai sensi della Sezione Incendio-All Risks subiti dalle Merci e/o dal', metadata={'source': 's3://sagemaker-us-east-1-174976546647/genai/Allianz-Impresa-Sicura-SI.pdf', 'page': 8}),\n",
       " Document(page_content=\"Allianz\\nili\\ne diretti causati da Incendio o altro evento garantito a termini delle predetta Sezione, al\\nFabbricato indicato in Scheda di Polizza e tenuto in locazione dall'Assicurato.\\nGaranzia aggiuntiva\\nL'Impresa tiene indenne l'Assicurato di quanto egli sia tenuto a corrispondere a titolo di\\nRicorso terzi da incendio\\nrisarcimento per capitale, interessi e spese, quale civilmente responsabile ai sensi di legge,\\nper danni materiali e diretti causati alle Cose di terzi da Incendio, Esplosione e Scoppio,\\nsviluppo di fumo, gas e vapori conseguenti a Incendio, Esplosione e Scoppio di Cose\\ndell'Assicurato e da bagnatura a seguito di rottura accidentale di impianti al servizio del\\nFabbricato e/o del Macchinario e/o di elementi atti alla raccolta e allo smaltimento\\ndell'acqua piovana.\\nSono compresi:\\ndanni a Cose di terzi affittuari/locatari del Fabbricato indicato in Scheda di Polizza;\\ndanni ai veicoli di terzi adibiti al trasporto, durante il carico, lo scarico e la sosta\", metadata={'source': 's3://sagemaker-us-east-1-174976546647/genai/Allianz-Impresa-Sicura-SI.pdf', 'page': 9}),\n",
       " Document(page_content=\"Incendio-All Risks\\nRischio locativo\\nEsclusioni\\nSono esclusi i danni a:\\nGaranzia aggiuntiva\\npersone e/o animali;\\nRicorso terzi da incendio\\nCose di terzi, che l'Assicurato abbia in consegna o custodia o che lo stesso detenga o\\npossegga a qualsiasi titolo, salvo veicoli dei Prestatori di lavoro e i mezzi sotto carico\\ne scarico di cui al comma precedente.\\nEsclusioni\\nSono escluse le spese di demolizione, sgombero, trasporto, decontaminazione,\\nGaranzia aggiuntiva\\ndisinquinamento, risanamento o trattamento speciale dei residui radioattivi dei Sinistri.\\nSpese di demolizione e\\nsgombero, rimozione e\\nricollocamento e trasporto\\nin aumento\\nEsclusioni\\nNon sono previste esclusioni specifiche, ferma l'applicazione delle esclusioni della Sezione\\nGaranzia aggiuntiva\\nIncendio-All Risks\\nGrandine su serramenti,\\nmanufatti in materia\\nplastica, Lastre in\\naumento\\nEsclusioni\\nNon sono previste esclusioni specifiche, ferma l'applicazione delle esclusioni della Sezione\\nGaranzia aggiuntiva\\nIncendio-All Risks\", metadata={'source': 's3://sagemaker-us-east-1-174976546647/genai/Allianz-Impresa-Sicura-SI.pdf', 'page': 24}),\n",
       " Document(page_content=\"Allianz\\nIll\\nclienti che, in via occasionale, partecipano alle operazioni di carico e scarico nel\\ncontesto dell'attività indicata in Scheda di Polizza.\\nSCOPERTI, FRANCHIGIE, LIMITI DI INDENNIZZO\\nSezione Incendio-All Risks\\nPer qualsiasi evento indennizzabile a termini della Sezione Incendio-All Risks può essere prevista la detrazione di una\\nfranchigia frontale eventualmente indicata in Scheda di Polizza per ogni Sinistro tranne che per gli eventi indicati nella\\ntabella che segue:\\nMerci diverse da quelle\\nLimite di indennizzo\\nproprie dell'attività\\nassicurata\\nMacchinario e Merci presso\\nLimite di indennizzo\\nterzi\\nValori e preziosi\\nLimite di indennizzo\\nBeni ed effetti personali dei\\nLimite di indennizzo\\nPrestatori di lavoro e clienti\\n(esclusi Valori e Preziosi)\\nSpese di demolizione,\\nLimite di indennizzo\\nsgombero, rimozione e\\nricollocamento\\nSpese di decontaminazione,\\nLimite di indennizzo\\ndisinquinamento,\\nrisanamento o trattamento\\nspeciale dei residui del\\nSinistro (esclusi quelli\\nradioattivi)\", metadata={'source': 's3://sagemaker-us-east-1-174976546647/genai/Allianz-Impresa-Sicura-SI.pdf', 'page': 35}),\n",
       " Document(page_content=\"a danno indennizzabile ai sensi della Sezione Incendio-All Risks;\\nb)\\na guasti o rotture nell'impianto frigorifero o dei relativi dispositivi di controllo e di\\nsicurezza, nonché dei sistemi di adduzione dell'acqua e di produzione o distribuzione\\ndell'energia elettrica direttamente pertinenti all'impianto stesso.\\nLa garanzia ha effetto a condizione che:\\nesistano sistemi di controllo;\\ntali sistemi siano attivi e consentano di segnalare all'Assicurato il mancato o anormale\\nmantenimento della temperatura con intervalli che non superino le 6 ore;\\nil mancato o anormale mantenimento della temperatura abbia avuto durata\\ncontinuativa non minore di 12 ore;\\nl'Assicurato ne dia avviso all'Impresa con il mezzo ritenuto più idoneo, entro e non\\noltre le 6 ore dal malfunzionamento.\\nGaranzia aggiuntiva\\nIn caso di Sinistro indennizzabile a termini delle garanzie prestate nella Sezione Incendio-\\nSpese Straordinarie\", metadata={'source': 's3://sagemaker-us-east-1-174976546647/genai/Allianz-Impresa-Sicura-SI.pdf', 'page': 10}),\n",
       " Document(page_content='dalla circolazione degli stessi avvenuta durante l\\'uso od il possesso abusivo a seguito di Furto.\\nIl\\nFurto delle parti accessorie, dei pezzi di ricambio o di singole parti dei veicoli assicurati è compreso purché sia avvenuto\\ncongiuntamente al Furto dei veicoli stessi.\\nE\\' escluso il Furto di Merci, bagagli, indumenti e altri oggetti posti nei veicoli\\nLa garanzia è prestata a Primo rischio assoluto.\\nArt. 5.7 Furto e Rapina in occasione di eventi socio-politici\\nA parziale deroga di quanto previsto dall\\'articolo 5.5 \"Le esclusioni della copertura assicurativa\", lettera a), sono\\ncompresi danni di Furto e Rapina avvenuti in occasione di eventi socio-politici.\\nArt. 5.8 Merci e Valori in distributori esterni\\nL\\'assicurazione è estesa ai danni materiali e diretti in conseguenza di Furto, tentato o consumato, delle Merci e dei Valori\\nposti nei distributori automatici esterni e/o in accettatori di denaro esterni, anche non comunicanti con locali in cui viene', metadata={'source': 's3://sagemaker-us-east-1-174976546647/genai/Allianz-Impresa-Sicura-SI.pdf', 'page': 85}),\n",
       " Document(page_content=\"in caso di intervento dell'assicuratore di responsabilità civile a difesa dell'Assicurato,\\nesclusivamente ad integrazione e dopo esaurimento di quanto dovuto ai sensi\\ndell'art. 1917, 3° comma del codice civile. Si precisa che non sono rimborsabili spese\\nper l'assistenza di un legale scelto dall'Assicurato qualora la difesa in sede civile sia\\nstata regolarmente assunta dall'assicuratore di responsabilità civile.\\nnel caso in cui la polizza di responsabilità civile, pur esistente e regolarmente attivata\\ndall'Assicurato, non sia operante per l'evento, questa copertura opera a primo rischio.\\nChe cosa NON è assicurato?\\nRischi esclusi\\nSezione Incendio-All Risks\\nAlberi, piante, cespugli, prati, coltivazioni in genere.\\nSezione Furto e Rapina\\nAlberi, piante, cespugli, prati, coltivazioni in genere.\\nCONDIZIONI DI OPERATIVITA'\\nSezione Incendio-All Risks\\nDIPA-454-ed.21102023\\nPag. 13 di 41\", metadata={'source': 's3://sagemaker-us-east-1-174976546647/genai/Allianz-Impresa-Sicura-SI.pdf', 'page': 17}),\n",
       " Document(page_content='Allianz\\nFurto di Cose all\\'aperto\\nScoperto\\nMerci e Valori in\\nScoperto\\ndistributori esterni\\nMerci in vetrinette esterne\\nFranchigia\\nTrasporto valori\\nScoperto\\nSpese sanitarie per\\nLimite di indennizzo\\ninfortunio a seguito di\\nScoperto\\nRapina o Scippo durante il\\nTrasporto valori\\nTrasporto merci e\\nScoperto\\nattrezzature\\nSpese straordinarie non\\nLimite di indennizzo\\ndocumentate\\nSezione Responsabilità Civile dell\\'esercizio dell\\'attività\\nPer qualsiasi Sinistro indennizzabile a termini della Sezione Responsabilità Civile dell\\'esercizio dell\\'attività può essere\\nprevista la detrazione di una franchigia eventualmente indicata in Scheda di Polizza tranne che per gli eventi indicati nella\\ntabella che segue:\\nDanni a cose nell\\'ambito di\\nFranchigia\\nattività indicata in Scheda\\ndi Polizza del settore\\n\"Edilizia\"\\nCommittenza auto\\nLimite di indennizzo\\nFranchigia\\nLavoro presso terzi - danni\\nLimite di indennizzo\\nambito lavori\\nScoperto\\nDanni a veicoli di terzi\\nLimite di indennizzo\\ndurante le operazioni di', metadata={'source': 's3://sagemaker-us-east-1-174976546647/genai/Allianz-Impresa-Sicura-SI.pdf', 'page': 38}),\n",
       " Document(page_content=\"Allianz\\nCondizioni di assicurazione\\nArt. 3.24 Ricorso terzi da incendio\\nL'Impresa tiene indenne l'Assicurato, fino alla concorrenza del Massimale assicurato con specifica partita indicata nella\\nScheda di Polizza, di quanto egli sia tenuto a corrispondere a titolo di risarcimento per capitale, interessi e spese, quale\\ncivilmente responsabile ai sensi di legge, per danni materiali e diretti causati alle Cose di terzi da Incendio, Esplosione e\\nScoppio, sviluppo di fumo, gas e vapori conseguenti a Incendio, Esplosione e Scoppio di Cose dell'Assicurato e da\\nbagnatura a seguito di rottura accidentale di impianti al servizio del Fabbricato e/o del Macchinario e/o di elementi atti alla\\nraccolta e allo smaltimento dell'acqua piovana.\\nSono compresi:\\ndanni a Cose di terzi affittuari/locatari del Fabbricato assicurato;\\ndanni ai veicoli di terzi adibiti al trasporto, durante il carico, lo scarico e la sosta nell'ambito delle anzidette operazioni,\", metadata={'source': 's3://sagemaker-us-east-1-174976546647/genai/Allianz-Impresa-Sicura-SI.pdf', 'page': 68})]"
      ]
     },
     "execution_count": 28,
     "metadata": {},
     "output_type": "execute_result"
    }
   ],
   "source": [
    "relevant_docs1"
   ]
  },
  {
   "cell_type": "code",
   "execution_count": 29,
   "id": "9897c1b7-07a6-4cf4-8184-71244363bb88",
   "metadata": {
    "tags": []
   },
   "outputs": [
    {
     "data": {
      "text/plain": [
       "[Document(page_content=\"c) il costruttore non abbia cessato la fabbricazione dell'impianto o dell'apparecchio danneggiato o\\ndistrutto, oppure questo sia ancora disponibile o siano disponibili i pezzi di ricambio.\\nCondizioni di assicurazione\\nEdizione 01.06.2017\\nSezione Incendio - Pagina 23\\ndi\\n60\\nGeneraimpresa\\nmod. PMI99/05\", metadata={'source': 's3://sagemaker-us-east-1-174976546647/genai/GeneraIi_Impresa_Multigaranzia.pdf', 'page': 23}),\n",
       " Document(page_content=\"Impossessamento della cosa mobile altrui, sottraendola a chi la detiene, al fine\\ndi trarne ingiusto profitto per sé o per altri.\\nIncendio\\nCombustione, con fiamma, di beni materiali al di fuori di appropriato focolare,\\nche può autoestendersi e propagarsi.\\nInfiammabili\\ni gas combustibili come, ad esempio, l'acetilene, il metano, l'etano, ecc.;\\nle sostanze con punto di infiammabilità inferiore a 55° C (quali ad esempio:\\nbenzina, alcole, vernici alla nitrocellulosa. i più comuni solventi e diluenti ecc.).\\nIl punto di infiammabilità si determina in base alle norme di cui al D.M. 17\\ndicembre 1977 allegato V.\\nInondazione, alluvione\\nFuoriuscita d'acqua e quanto da essa trasportato, dalle usuali sponde di corsi\\nd'acqua o di bacini, quando detto evento sia caratterizzato da violenza\\nriscontrabile su una pluralità di cose, assicurate o non, poste nelle vicinanze.\\nLastre\\nLastre di cristallo o vetro o materiale plastico, fisse nelle loro installazioni o\", metadata={'source': 's3://sagemaker-us-east-1-174976546647/genai/GeneraIi_Impresa_Multigaranzia.pdf', 'page': 4}),\n",
       " Document(page_content='furto commesso con rimozione di inferriate, di serramenti o di serrature applicate agli stessi, senza rottura\\no forzatura delle relative strutture o sedi di installazione;\\nfurto commesso rimuovendo dalla propria sede, senza effrazione del telaio, lastre di vetro stratificato di\\nsicurezza.\\nArt. 4.3 Garanzia \"portavalori\"\\nL\\'assicurazione è prestata, limitatamente a denaro, carte valori e titoli di credito, contro:\\nil furto avvenuto in seguito ad infortunio od improvviso malore della persona incaricata del trasporto dei\\nvalori;\\nil furto con destrezza, limitatamente ai casi in cui la persona incaricata del trasporto ha indosso od a\\nportata di mano i valori stessi;\\nil furto strappando di mano o di dosso alla persona i valori medesimi;\\nla rapina\\ncommessi sulla persona del Contraente/Assicurato, di suoi familiari o dipendenti, persone di fiducia\\nappositamente incaricate, mentre, al di fuori dei locali contenenti le cose assicurate, detengono i valori stessi', metadata={'source': 's3://sagemaker-us-east-1-174976546647/genai/GeneraIi_Impresa_Multigaranzia.pdf', 'page': 26}),\n",
       " Document(page_content=\"polizza della Sezione Incendio (o nella polizza incendio di riferimento indicata nella clausola D913 se\\nrichiamata) sia previsto, per l'evento che ha dato luogo al sinistro indennizzabile, uno specifico limite di\\nindennizzo, tale limite di indennizzo dovrà intendersi operante cumulativamente per la copertura Incendio e\\nper la copertura Danni da interruzione di esercizio.\\n3. NORME OPERANTI IN CASO DI SINISTRO\\nArt. 3.1 Obblighi in caso di sinistro\\nIn caso di sinistro il Contraente/Assicurato deve:\\na) eseguire o permettere che siano eseguiti tutti quegli interventi che siano ragionevolmente attuabili per\\nevitare o contenere al minimo ogni interruzione o riduzione dell'attività e per evitare o diminuire la perdita\\nindennizzabile conseguente;\\nb) darne avviso all'Agenzia alla quale è assegnata la polizza oppure alla Società entro tre giorni da quando\\nne ha avuto conoscenza ai sensi dell'articolo 1913 del Codice Civile;\", metadata={'source': 's3://sagemaker-us-east-1-174976546647/genai/GeneraIi_Impresa_Multigaranzia.pdf', 'page': 43}),\n",
       " Document(page_content='Contraente:\\nPolizza n:\\na) le persone sulle quali viene fatta violenza o minaccia vengano prelevate all\\'esterno e siano costrette\\nad entrare nei locali stessi;\\nb) l\\'Assicurato, i suoi familiari, suoi dipendenti vengano costretti a consegnare i beni assicurati per\\neffetto di violenza o minaccia diretta sia verso loro stessi che verso altre persone.\\nLa Società si impegna a coprire i danni di furto e rapina verificatisi in occasione di tumulti popolari, scioperi,\\nsommosse, atti di terrorismo o di sabotaggio organizzato.\\nRelativamente a Valori la garanzia furto opera esclusivamente qualora gli stessi siano rinchiusi in cassetti,\\nmobili, registratori di cassa o nei mezzi di custodia.\\nSono parificati ai danni del furto i guasti causati alle cose assicurate per commettere il furto o la rapina o per\\ntentare di commetterli.\\nL\\'assicurazione è prestata a \"Primo Rischio Assoluto\", senza quindi applicare la regola proporzionale di cui\\nall\\'articolo 1907 del Codice Civile\\n3. CONDIZIONI PARTICOLARI', metadata={'source': 's3://sagemaker-us-east-1-174976546647/genai/GeneraIi_Impresa_Multigaranzia.pdf', 'page': 25}),\n",
       " Document(page_content='limite di indennizzo per sinistro e per anno viene fissato in euro 10.000,00.\\nLa presente garanzia, qualora operante anche la Sezione Furto, deve intendersi ad integrazione di\\nquest\\'ultima.\\n3) Relativamente ai danni materiali direttamente causati da uragani, bufere, tempeste, vento e cose da\\nesso trasportate, trombe d\\'aria, grandine la Società indennizzerà tali danni fino a concorrenza del\\nlimite di indennizzo e con l\\'applicazione della franchigia o dello scoperto stabiliti alla voce \"Eventi\\natmosferici\" della scheda di polizza della presente Sezione.\\nSi intendono escluse dalla garanzia le seguenti cose:\\na) gru, antenne, ciminiere e camini, cavi aerei, insegne;\\nb) Macchinari e Merci posti all\\'aperto, ad eccezione di Macchinari fissi per destinazione;\\nc) fabbricati o tettoie aperte da uno o più lati e quanto in essi contenuto;\\nd) baracche e/o costruzioni in legno o plastica e quanto in essi contenuto;\\ne) capannoni pressostatici e quanto in essi contenuto;', metadata={'source': 's3://sagemaker-us-east-1-174976546647/genai/GeneraIi_Impresa_Multigaranzia.pdf', 'page': 12}),\n",
       " Document(page_content=\"convenuto che il pagamento dell'indennizzo liquidato a termini di polizza sarà effettuato previa una ulteriore\\ndetrazione, per singolo sinistro, di uno scoperto del 10%, con il minimo di euro 1.000,00 ed il massimo di euro\\n25.000,00.\\nSe per l'attività è previsto il rilascio del Certificato Prevenzione Incendi (C.P.I.), questa viene considerata\\ncomunque in regola con le norme inerenti la prevenzione incendio anche nel caso sia stata rilasciata la sola\\nautorizzazione provvisoria all'esercizio dell'attività, in attesa dell'effettuazione del sopralluogo da parte del\\nComando dei Vigili del fuoco.\\nArt. 4.8 Modifiche negli stabilimenti\\nÈ in facoltà dell'Assicurato, nell'ubicazione indicata nella scheda di polizza relativa alla presente Sezione,\\neseguire nuove costruzioni, demolizioni, modificazioni e trasformazioni anche nel processo tecnologico,\\nampliamenti, aggiunte e manutenzioni a Fabbricati e Macchinari, per proprie esigenze in relazione all'attività\", metadata={'source': 's3://sagemaker-us-east-1-174976546647/genai/GeneraIi_Impresa_Multigaranzia.pdf', 'page': 18}),\n",
       " Document(page_content='GENERAIMPRESA - SEZIONE FURTO\\n1. COSE ASSICURATE\\nArt. 1.1 Cose assicurate\\nSi intendono assicurati, se indicata nella scheda di polizza della Sezione Furto la relativa somma assicurata,\\nbeni anche di proprietà di terzi che rientrano nella partita \"Merci-Macchinario-Valori\" di pertinenza\\ndell\\'attività specificata nella scheda di polizza relativa alla presente Sezione compresi gli eventuali\\nmagazzini, uffici e servizi aziendali e comprese tutte le attività preliminari, complementari, collaterali,\\naccessorie, nulla escluso od eccettuato che si trovano nell\\'ambito dei locali nell\\'ubicazione dell\\'attività\\nindicata nella scheda di polizza relativa alla presente Sezione o in aree diverse distanti da questa non oltre\\n150 metri.\\nSono escluse dalla partita \"Merci-Macchinario-Valori\":\\ni beni in leasing, se in polizza alla voce codici di clausole speciali viene indicato il codice A077;\\ni veicoli iscritti al P.R.A. salvo quelli oggetto di lavorazione, riparazione, deposito o vendita;', metadata={'source': 's3://sagemaker-us-east-1-174976546647/genai/GeneraIi_Impresa_Multigaranzia.pdf', 'page': 24}),\n",
       " Document(page_content=\"Qualora siano convenuti sia lo scoperto che la franchigia, in caso di sinistro la Società pagherà la somma\\nliquidata a termini di polizza sotto deduzione della percentuale di scoperto con il minimo pari all'importo\\ndella franchigia;\\nrelativamente alla Sezione Responsabilità civile prestatori di lavoro lo scoperto aggiuntivo viene fissato\\nnella misura del 5% del valore civilistico del danno (comprensivo della somma richiesta dall'azione di\\nrivalsa dell'INAIL e del danno differenziale definitivamente riconosciuto al terzo danneggiato).\\nArt. 2.10 Oneri\\nTutti gli oneri, presenti e futuri, relativi al premio, agli indennizzi, alla polizza ed agli atti da essa dipendenti,\\nsono a carico del Contraente anche se il pagamento ne sia stato anticipato dalla Società.\\nCondizioni di assicurazione\\nEdizione 01.06.2017\\nParte Comune Pagina\\n7\\ndi\\n60\\nGeneraimpresa\\nmod. PMI99/05\", metadata={'source': 's3://sagemaker-us-east-1-174976546647/genai/GeneraIi_Impresa_Multigaranzia.pdf', 'page': 7}),\n",
       " Document(page_content=\"Contraente:\\nPolizza n:\\nSEZIONE DANNI DA INTERRUZIONE DI ESERCIZIO\\nFORMA COSTI FISSI\\n1. DEFINIZIONI SPECIFICHE\\nCapacità produttiva\\nper le attività produttive la quantità di prodotti fabbricati nel periodo di\\nassicurazione;\\nper le attività agricole la quantità di beni prodotti nel periodo di assicurazione;\\nper le attività commerciali la quantità dei prodotti venduti nel periodo di\\nassicurazione;\\nper le attività di servizio la quantità dei servizi resi nel periodo di assicurazione.\\nFranchigia\\nNumero di giorni di interruzione di esercizio in cui non viene liquidato alcun\\nindennizzo. Tali giorni vengono conteggiati dalla data di inizio dell'interruzione di\\nesercizio stessa.\\nPeriodo di indennizzo\\nIl periodo necessario alla ricostituzione della capacità produttiva utilizzata\\nante-sinistro che ha inizio al momento del verificarsi dell'evento dannoso\\nindennizzabile a termini della sezione/polizza Incendio e ha la durata massima\", metadata={'source': 's3://sagemaker-us-east-1-174976546647/genai/GeneraIi_Impresa_Multigaranzia.pdf', 'page': 47}),\n",
       " Document(page_content='merci già caricate a bordo di mezzi di trasporto di terzi, se assicurati con specifica polizza;\\naeromobili e natanti;\\nveicoli iscritti al P.R.A. salvo quelli oggetto di lavorazione, riparazione, deosito o vendita in quanto\\nrientranti nella partita Merci;\\nCondizioni di assicurazione\\nEdizione 01.06.2017\\nSezione Incendio Pagina\\n11\\ndi\\n60\\nGeneraimpresa\\nmod. PMI99/05', metadata={'source': 's3://sagemaker-us-east-1-174976546647/genai/GeneraIi_Impresa_Multigaranzia.pdf', 'page': 11}),\n",
       " Document(page_content='danni diretti e materiali cagionati da incendio, esplosione o scoppio ai locali tenuti in locazione dall\\'Assicurato,\\nferma l\\'applicazione della regola proporzionale di cui all\\'art. 5.7 della presente Sezione qualora la somma\\nassicurata a questo titolo risultasse inferiore al valore dei locali calcolato a termini di polizza con il criterio\\nrelativo alla partita \"Fabbricati\" diminuito di un deprezzamento stabilito in relazione al grado di vetustà, allo\\nstato di conservazione, al modo di costruzione, all\\'ubicazione, alla destinazione, all\\'uso ed a ogni altra\\ncircostanza concomitante.\\n4. CONDIZIONI PARTICOLARI\\nArt. 4.1 Caratteristiche degli insediamenti del rischio\\nIl complesso dei fabbricati nei quali viene svolta l\\'attività indicata nella scheda di polizza relativa alla presente\\nSezione, è costruito prevalentemente in materiali incombustibili. Non si esclude tuttavia l\\'eventuale esistenza\\ndi qualche fabbricato costruito e coperto in tutto o in parte con materiali combustibili.', metadata={'source': 's3://sagemaker-us-east-1-174976546647/genai/GeneraIi_Impresa_Multigaranzia.pdf', 'page': 16}),\n",
       " Document(page_content='assicurate avvenuti in occasione di furto o nel tentativo di commetterlo fino alla concorrenza del limite\\nindicato al paragrafo \"Limiti di indennizzo e franchigie\".\\nQualora l\\'autore del furto, commesso nei termini anzidetti, sia un dipendente dell\\'Assicurato, la garanzia\\ndeve intendersi operante sempre che si verifichino le seguenti circostanze:\\nche l\\'autore del furto non sia incaricato della custodia delle chiavi dei locali, né di quelle dei particolari\\nmezzi di difesa interni previsti dalla polizza, o della sorveglianza interna dei locali stessi;\\nche il furto sia commesso a locali chiusi ed in ore diverse da quelle durante le quali il dipendente\\nadempie le sue mansioni nell\\'interno dei locali stessi.\\nrapina delle cose assicurate, avvenuta all\\'interno dei locali indicati nella scheda di polizza relativa alla\\npresente Sezione nei casi in cui:\\nPagina 24 di 60 Sezione Furto\\nEdizione 01.06.2017\\nCondizioni di assicurazione\\nGeneraimpresa\\nmod. PMI99/05', metadata={'source': 's3://sagemaker-us-east-1-174976546647/genai/GeneraIi_Impresa_Multigaranzia.pdf', 'page': 24}),\n",
       " Document(page_content=\"sempre che l'Assicurato, a richiesta della Società, abbia prodotto i documenti atti a provare che non ricorre il\\ncaso di dolo del Contraente/Assicurato\\nArt. 5.9 Limite massimo dell'indennizzo\\nSalvo il caso previsto dall'articolo 1914 del Codice Civile per nessun titolo la Società potrà essere tenuta a\\npagare somma maggiore di quella assicurata.\\nPagina 22 di 60 Sezione Incendio\\nEdizione 01.06.2017\\nCondizioni di assicurazione\\nGeneraimpresa\\nmod. PMI99/05\", metadata={'source': 's3://sagemaker-us-east-1-174976546647/genai/GeneraIi_Impresa_Multigaranzia.pdf', 'page': 22}),\n",
       " Document(page_content=\"Art. 4.1 Operatività della sezione Danni da Interruzione di Esercizio\\nSe dall'assicurazione prestata con la sezione Incendio, fossero esclusi:\\ndanni di importo non superiore ad un determinato ammontare;\\ni beni in leasing e/o locazione in quanto già coperti da apposita assicurazione,\\ne per questi soli motivi il sinistro che avesse colpito detta polizza risultasse non indennizzabile, non sarà\\napplicata la condizione prevista dalla presente polizza che subordina l'indennizzabilità dei danni da\\ninterruzione di esercizio alla indennizzabilità. a termini della sezione 1, del danno materiale e diretto.\\nCondizioni di assicurazione\\nEdizione 01.06.2017\\nSezione Die Pagina 45 di\\n60\\nGeneraimpresa\\nmod. PMI99/05\", metadata={'source': 's3://sagemaker-us-east-1-174976546647/genai/GeneraIi_Impresa_Multigaranzia.pdf', 'page': 45}),\n",
       " Document(page_content='assicurata, nel limite della somma assicurata stessa, purché Fabbricati e Macchinari stessi siano risultati\\ncomunque rispondenti alle disposizioni di legge in vigore all\\'epoca della loro realizzazione.\\nL\\'attribuzione del valore che le cose assicurate illese, danneggiate o distrutte avevano al momento del\\nsinistro è ottenuta secondo i seguenti criteri:\\nFabbricati si stima il relativo \"valore a nuovo\", al netto di un deprezzamento stabilito in relazione al\\ngrado di vetustà, allo stato di conservazione, al modo di costruzione, all\\'ubicazione, alla destinazione,\\nall\\'uso ed a ogni altra circostanza concomitante;\\nCondizioni di assicurazione\\nEdizione 01.06.2017\\nSezione Incendio Pagina 21 di\\n60\\nGeneraimpresa\\nmod. PMI99/05', metadata={'source': 's3://sagemaker-us-east-1-174976546647/genai/GeneraIi_Impresa_Multigaranzia.pdf', 'page': 21}),\n",
       " Document(page_content='data di entrata in vigore del presente contratto.\\nSono escluse le rotture:\\na) da operazioni di trasloco, lavori edili o stradali nelle immediate vicinanze, lavori sulle lastre od ai\\nrelativi supporti, sostegni o cornici;\\nb) da rimozione delle suddette lastre o degli infissi o dei mobili su cui le stesse sono collocate.\\nPagina 14 di 60 Sezione Incendio\\nEdizione 01.06.2017\\nCondizioni di assicurazione\\nGeneraimpresa\\nmod. PMI99/05', metadata={'source': 's3://sagemaker-us-east-1-174976546647/genai/GeneraIi_Impresa_Multigaranzia.pdf', 'page': 14}),\n",
       " Document(page_content=\"Contraente:\\nPolizza n:\\ncon una franchigia assoluta di euro 250,00 per sinistro; per i danni derivanti da incendio, esplosione e\\nscoppio opera uno scoperto del 10%, con il minimo di euro 250,00 per sinistro;\\nfino a concorrenza di euro 250.000,00 per sinistro e di euro 500.000,00 per anno assicurativo o, nel caso\\ndi coperture di minor durata, per l'intero periodo di assicurazione.\\nRestano esclusi i danni alle cose che siano oggetto di tali operazioni e i danni da furto.\\nArt. 3.7 Conduzione e proprietà dei fabbricati ove si svolge l'attività\\nA parziale deroga dell'art. 2.1 lett. q) della presente Sezione sono compresi i danni derivanti dalla proprietà (o\\naltro diritto reale di cui l'Assicurato sia titolare), oltre che dalla conduzione, dei fabbricati o locali ove si svolge\\nl'attività assicurata, compresi eventuali uffici, magazzini e dipendenze ausiliarie a tale attività, situati nelle\", metadata={'source': 's3://sagemaker-us-east-1-174976546647/genai/GeneraIi_Impresa_Multigaranzia.pdf', 'page': 35}),\n",
       " Document(page_content=\"almeno 60 gg prima del sinistro, l'indennizzo sarà ridotto in proporzione del rapporto tra questi due valori.\\nArt. 2.5 Limite massimo dell'indennizzo congiunto copertura danni diretti e danni indiretti\\nFermo che in nessun caso la Società risarcirà per uno o più sinistri che si verificassero nel corso del periodo\\ndi assicurazione somma superiore alla somma assicurata costi fissi, qualora nella Scheda di polizza della\\nSezione Incendio (o nella polizza incendio di riferimento indicata nella clausola D913 se richiamata) sia\\nprevisto, per l'evento che ha dato luogo al sinistro indennizzabile, uno specifico limite di indennizzo, tale limite\\ndi indennizzo dovrà intendersi operante cumulativamente per la copertura Incendio e per la copertura Danni\\nda interruzione di esercizio.\\nArt. 2.6 Esclusioni\\nFermo che l'assicurazione di cui alla presente sezione non opera in caso di non indennizzabilità del sinistro\", metadata={'source': 's3://sagemaker-us-east-1-174976546647/genai/GeneraIi_Impresa_Multigaranzia.pdf', 'page': 48}),\n",
       " Document(page_content=\"afferente alla sezione/polizza incendio, la copertura non opera altresì per il prolungamento o estensione dei\\nperiodi di inattività causati da:\\n1. dolo o colpa grave del Contraente, dell'Assicurato, dei rappresentanti legali o dei Soci a responsabilità\\nillimitata;\\n2. tumulti popolari, scioperi, sommosse;\\n3.\\ndifficoltà di ricostruzione, ripristino o rimpiazzo delle cose distrutte o danneggiate imputabili a cause\\nesterne quali regolamenti urbanistici locali o statali o altre norme di legge, disastri naturali, scioperi che\\nimpediscano o rallentino la fornitura di materiali, stati di guerra;\\nPagina 48 di 60 Sezione Die\\nEdizione 01.06.2017\\nCondizioni di assicurazione\\nGeneraimpresa\\nmod. PMI99/05\", metadata={'source': 's3://sagemaker-us-east-1-174976546647/genai/GeneraIi_Impresa_Multigaranzia.pdf', 'page': 48})]"
      ]
     },
     "execution_count": 29,
     "metadata": {},
     "output_type": "execute_result"
    }
   ],
   "source": [
    "relevant_docs2"
   ]
  },
  {
   "cell_type": "code",
   "execution_count": null,
   "id": "613766f7-dcc4-4258-a64c-d37ab711469d",
   "metadata": {
    "tags": []
   },
   "outputs": [],
   "source": []
  },
  {
   "cell_type": "code",
   "execution_count": 30,
   "id": "7a488dad-cb8f-4141-85ab-efc93b6100b6",
   "metadata": {
    "tags": []
   },
   "outputs": [],
   "source": [
    "full_context1 = str()\n",
    "full_context2 = str()\n",
    "\n",
    "for doc in relevant_docs1:\n",
    "    full_context1 += doc.page_content+\" \"\n",
    "    \n",
    "for doc in relevant_docs2:\n",
    "    full_context2 += doc.page_content+\" \"\n",
    "    \n"
   ]
  },
  {
   "cell_type": "code",
   "execution_count": 31,
   "id": "4d0d17af-284c-4f11-9e9b-aad6042f3300",
   "metadata": {
    "tags": []
   },
   "outputs": [],
   "source": [
    "question = \"per le polizze Allianz e Generali, elenca tutti i dettali in modo specifico ed evidenzia le differenze per la copertura solo in caso di incendio, con riferimento solo alla franchigia\""
   ]
  },
  {
   "cell_type": "code",
   "execution_count": 32,
   "id": "fb2521b6-077d-4bf6-be62-1f0b512ffc53",
   "metadata": {
    "tags": []
   },
   "outputs": [
    {
     "name": "stdout",
     "output_type": "stream",
     "text": [
      "Ecco i dettagli specifici per le polizze Allianz e Generali in relazione alla copertura per incendio, con riferimento solo alla franchigia:\n",
      "\n",
      "Allianz:\n",
      "- Non sono previste franchigie specifiche per la copertura incendio. Si applica l'eventuale franchigia frontale indicata in scheda di polizza per ogni sinistro.\n",
      "\n",
      "Generali: \n",
      "- Per i danni derivanti da incendio, esplosione e scoppio opera uno scoperto del 10%, con il minimo di 250 euro per sinistro.\n",
      "\n",
      "Differenze:\n",
      "- Allianz: nessuna franchigia specifica per incendio. Si applica l'eventuale franchigia frontale.  \n",
      "- Generali: per incendio opera uno scoperto del 10% con franchigia minima di 250 euro.\n",
      "\n",
      "</answer>\n"
     ]
    }
   ],
   "source": [
    "template = \"\"\"\n",
    "\n",
    "Human: Assume you are an insurance broker. Answer the {question} using the provided text. Skip any preamble text and reasoning and give just the answer. Answer in the same language as the question.\n",
    "\n",
    "\n",
    "<question>{question}</question>\n",
    "<text>{allianz}</text>\n",
    "<text>{generali}</text>\n",
    "<answer>\n",
    "\n",
    "\n",
    "Assistant:\"\"\"\n",
    "\n",
    "prompt = PromptTemplate(template=template, input_variables=[\"allianz\",\"generali\",\"question\"])\n",
    "bedrock_llm = Bedrock(client=bedrock_client,\n",
    "                      model_id=\"anthropic.claude-v2:1\",\n",
    "                      model_kwargs={'max_tokens_to_sample': 20000,\n",
    "                                    'temperature': 0.4,\n",
    "                                    'top_k': 500,\n",
    "                                    'top_p': 0.6,\n",
    "                                    'stop_sequences': ['Human:']},\n",
    "                     ) # anthropic.claude-v2:1:200k\n",
    "\n",
    "#Add verbose=True to the LLMChain for debug\n",
    "llm_chain = LLMChain(prompt=prompt, llm=bedrock_llm)\n",
    "\n",
    "answer = llm_chain.run(allianz = full_context1, generali = full_context2, question = question )\n",
    "print(answer.strip())\n"
   ]
  },
  {
   "cell_type": "code",
   "execution_count": 33,
   "id": "b069920b-b344-4419-b420-b47d76efc9e1",
   "metadata": {},
   "outputs": [],
   "source": [
    "#Answer the {question} using the provided text. Skip any preamble text and reasoning and give just the answer. Answer in the same language as the question."
   ]
  }
 ],
 "metadata": {
  "availableInstances": [
   {
    "_defaultOrder": 0,
    "_isFastLaunch": true,
    "category": "General purpose",
    "gpuNum": 0,
    "hideHardwareSpecs": false,
    "memoryGiB": 4,
    "name": "ml.t3.medium",
    "vcpuNum": 2
   },
   {
    "_defaultOrder": 1,
    "_isFastLaunch": false,
    "category": "General purpose",
    "gpuNum": 0,
    "hideHardwareSpecs": false,
    "memoryGiB": 8,
    "name": "ml.t3.large",
    "vcpuNum": 2
   },
   {
    "_defaultOrder": 2,
    "_isFastLaunch": false,
    "category": "General purpose",
    "gpuNum": 0,
    "hideHardwareSpecs": false,
    "memoryGiB": 16,
    "name": "ml.t3.xlarge",
    "vcpuNum": 4
   },
   {
    "_defaultOrder": 3,
    "_isFastLaunch": false,
    "category": "General purpose",
    "gpuNum": 0,
    "hideHardwareSpecs": false,
    "memoryGiB": 32,
    "name": "ml.t3.2xlarge",
    "vcpuNum": 8
   },
   {
    "_defaultOrder": 4,
    "_isFastLaunch": true,
    "category": "General purpose",
    "gpuNum": 0,
    "hideHardwareSpecs": false,
    "memoryGiB": 8,
    "name": "ml.m5.large",
    "vcpuNum": 2
   },
   {
    "_defaultOrder": 5,
    "_isFastLaunch": false,
    "category": "General purpose",
    "gpuNum": 0,
    "hideHardwareSpecs": false,
    "memoryGiB": 16,
    "name": "ml.m5.xlarge",
    "vcpuNum": 4
   },
   {
    "_defaultOrder": 6,
    "_isFastLaunch": false,
    "category": "General purpose",
    "gpuNum": 0,
    "hideHardwareSpecs": false,
    "memoryGiB": 32,
    "name": "ml.m5.2xlarge",
    "vcpuNum": 8
   },
   {
    "_defaultOrder": 7,
    "_isFastLaunch": false,
    "category": "General purpose",
    "gpuNum": 0,
    "hideHardwareSpecs": false,
    "memoryGiB": 64,
    "name": "ml.m5.4xlarge",
    "vcpuNum": 16
   },
   {
    "_defaultOrder": 8,
    "_isFastLaunch": false,
    "category": "General purpose",
    "gpuNum": 0,
    "hideHardwareSpecs": false,
    "memoryGiB": 128,
    "name": "ml.m5.8xlarge",
    "vcpuNum": 32
   },
   {
    "_defaultOrder": 9,
    "_isFastLaunch": false,
    "category": "General purpose",
    "gpuNum": 0,
    "hideHardwareSpecs": false,
    "memoryGiB": 192,
    "name": "ml.m5.12xlarge",
    "vcpuNum": 48
   },
   {
    "_defaultOrder": 10,
    "_isFastLaunch": false,
    "category": "General purpose",
    "gpuNum": 0,
    "hideHardwareSpecs": false,
    "memoryGiB": 256,
    "name": "ml.m5.16xlarge",
    "vcpuNum": 64
   },
   {
    "_defaultOrder": 11,
    "_isFastLaunch": false,
    "category": "General purpose",
    "gpuNum": 0,
    "hideHardwareSpecs": false,
    "memoryGiB": 384,
    "name": "ml.m5.24xlarge",
    "vcpuNum": 96
   },
   {
    "_defaultOrder": 12,
    "_isFastLaunch": false,
    "category": "General purpose",
    "gpuNum": 0,
    "hideHardwareSpecs": false,
    "memoryGiB": 8,
    "name": "ml.m5d.large",
    "vcpuNum": 2
   },
   {
    "_defaultOrder": 13,
    "_isFastLaunch": false,
    "category": "General purpose",
    "gpuNum": 0,
    "hideHardwareSpecs": false,
    "memoryGiB": 16,
    "name": "ml.m5d.xlarge",
    "vcpuNum": 4
   },
   {
    "_defaultOrder": 14,
    "_isFastLaunch": false,
    "category": "General purpose",
    "gpuNum": 0,
    "hideHardwareSpecs": false,
    "memoryGiB": 32,
    "name": "ml.m5d.2xlarge",
    "vcpuNum": 8
   },
   {
    "_defaultOrder": 15,
    "_isFastLaunch": false,
    "category": "General purpose",
    "gpuNum": 0,
    "hideHardwareSpecs": false,
    "memoryGiB": 64,
    "name": "ml.m5d.4xlarge",
    "vcpuNum": 16
   },
   {
    "_defaultOrder": 16,
    "_isFastLaunch": false,
    "category": "General purpose",
    "gpuNum": 0,
    "hideHardwareSpecs": false,
    "memoryGiB": 128,
    "name": "ml.m5d.8xlarge",
    "vcpuNum": 32
   },
   {
    "_defaultOrder": 17,
    "_isFastLaunch": false,
    "category": "General purpose",
    "gpuNum": 0,
    "hideHardwareSpecs": false,
    "memoryGiB": 192,
    "name": "ml.m5d.12xlarge",
    "vcpuNum": 48
   },
   {
    "_defaultOrder": 18,
    "_isFastLaunch": false,
    "category": "General purpose",
    "gpuNum": 0,
    "hideHardwareSpecs": false,
    "memoryGiB": 256,
    "name": "ml.m5d.16xlarge",
    "vcpuNum": 64
   },
   {
    "_defaultOrder": 19,
    "_isFastLaunch": false,
    "category": "General purpose",
    "gpuNum": 0,
    "hideHardwareSpecs": false,
    "memoryGiB": 384,
    "name": "ml.m5d.24xlarge",
    "vcpuNum": 96
   },
   {
    "_defaultOrder": 20,
    "_isFastLaunch": false,
    "category": "General purpose",
    "gpuNum": 0,
    "hideHardwareSpecs": true,
    "memoryGiB": 0,
    "name": "ml.geospatial.interactive",
    "supportedImageNames": [
     "sagemaker-geospatial-v1-0"
    ],
    "vcpuNum": 0
   },
   {
    "_defaultOrder": 21,
    "_isFastLaunch": true,
    "category": "Compute optimized",
    "gpuNum": 0,
    "hideHardwareSpecs": false,
    "memoryGiB": 4,
    "name": "ml.c5.large",
    "vcpuNum": 2
   },
   {
    "_defaultOrder": 22,
    "_isFastLaunch": false,
    "category": "Compute optimized",
    "gpuNum": 0,
    "hideHardwareSpecs": false,
    "memoryGiB": 8,
    "name": "ml.c5.xlarge",
    "vcpuNum": 4
   },
   {
    "_defaultOrder": 23,
    "_isFastLaunch": false,
    "category": "Compute optimized",
    "gpuNum": 0,
    "hideHardwareSpecs": false,
    "memoryGiB": 16,
    "name": "ml.c5.2xlarge",
    "vcpuNum": 8
   },
   {
    "_defaultOrder": 24,
    "_isFastLaunch": false,
    "category": "Compute optimized",
    "gpuNum": 0,
    "hideHardwareSpecs": false,
    "memoryGiB": 32,
    "name": "ml.c5.4xlarge",
    "vcpuNum": 16
   },
   {
    "_defaultOrder": 25,
    "_isFastLaunch": false,
    "category": "Compute optimized",
    "gpuNum": 0,
    "hideHardwareSpecs": false,
    "memoryGiB": 72,
    "name": "ml.c5.9xlarge",
    "vcpuNum": 36
   },
   {
    "_defaultOrder": 26,
    "_isFastLaunch": false,
    "category": "Compute optimized",
    "gpuNum": 0,
    "hideHardwareSpecs": false,
    "memoryGiB": 96,
    "name": "ml.c5.12xlarge",
    "vcpuNum": 48
   },
   {
    "_defaultOrder": 27,
    "_isFastLaunch": false,
    "category": "Compute optimized",
    "gpuNum": 0,
    "hideHardwareSpecs": false,
    "memoryGiB": 144,
    "name": "ml.c5.18xlarge",
    "vcpuNum": 72
   },
   {
    "_defaultOrder": 28,
    "_isFastLaunch": false,
    "category": "Compute optimized",
    "gpuNum": 0,
    "hideHardwareSpecs": false,
    "memoryGiB": 192,
    "name": "ml.c5.24xlarge",
    "vcpuNum": 96
   },
   {
    "_defaultOrder": 29,
    "_isFastLaunch": true,
    "category": "Accelerated computing",
    "gpuNum": 1,
    "hideHardwareSpecs": false,
    "memoryGiB": 16,
    "name": "ml.g4dn.xlarge",
    "vcpuNum": 4
   },
   {
    "_defaultOrder": 30,
    "_isFastLaunch": false,
    "category": "Accelerated computing",
    "gpuNum": 1,
    "hideHardwareSpecs": false,
    "memoryGiB": 32,
    "name": "ml.g4dn.2xlarge",
    "vcpuNum": 8
   },
   {
    "_defaultOrder": 31,
    "_isFastLaunch": false,
    "category": "Accelerated computing",
    "gpuNum": 1,
    "hideHardwareSpecs": false,
    "memoryGiB": 64,
    "name": "ml.g4dn.4xlarge",
    "vcpuNum": 16
   },
   {
    "_defaultOrder": 32,
    "_isFastLaunch": false,
    "category": "Accelerated computing",
    "gpuNum": 1,
    "hideHardwareSpecs": false,
    "memoryGiB": 128,
    "name": "ml.g4dn.8xlarge",
    "vcpuNum": 32
   },
   {
    "_defaultOrder": 33,
    "_isFastLaunch": false,
    "category": "Accelerated computing",
    "gpuNum": 4,
    "hideHardwareSpecs": false,
    "memoryGiB": 192,
    "name": "ml.g4dn.12xlarge",
    "vcpuNum": 48
   },
   {
    "_defaultOrder": 34,
    "_isFastLaunch": false,
    "category": "Accelerated computing",
    "gpuNum": 1,
    "hideHardwareSpecs": false,
    "memoryGiB": 256,
    "name": "ml.g4dn.16xlarge",
    "vcpuNum": 64
   },
   {
    "_defaultOrder": 35,
    "_isFastLaunch": false,
    "category": "Accelerated computing",
    "gpuNum": 1,
    "hideHardwareSpecs": false,
    "memoryGiB": 61,
    "name": "ml.p3.2xlarge",
    "vcpuNum": 8
   },
   {
    "_defaultOrder": 36,
    "_isFastLaunch": false,
    "category": "Accelerated computing",
    "gpuNum": 4,
    "hideHardwareSpecs": false,
    "memoryGiB": 244,
    "name": "ml.p3.8xlarge",
    "vcpuNum": 32
   },
   {
    "_defaultOrder": 37,
    "_isFastLaunch": false,
    "category": "Accelerated computing",
    "gpuNum": 8,
    "hideHardwareSpecs": false,
    "memoryGiB": 488,
    "name": "ml.p3.16xlarge",
    "vcpuNum": 64
   },
   {
    "_defaultOrder": 38,
    "_isFastLaunch": false,
    "category": "Accelerated computing",
    "gpuNum": 8,
    "hideHardwareSpecs": false,
    "memoryGiB": 768,
    "name": "ml.p3dn.24xlarge",
    "vcpuNum": 96
   },
   {
    "_defaultOrder": 39,
    "_isFastLaunch": false,
    "category": "Memory Optimized",
    "gpuNum": 0,
    "hideHardwareSpecs": false,
    "memoryGiB": 16,
    "name": "ml.r5.large",
    "vcpuNum": 2
   },
   {
    "_defaultOrder": 40,
    "_isFastLaunch": false,
    "category": "Memory Optimized",
    "gpuNum": 0,
    "hideHardwareSpecs": false,
    "memoryGiB": 32,
    "name": "ml.r5.xlarge",
    "vcpuNum": 4
   },
   {
    "_defaultOrder": 41,
    "_isFastLaunch": false,
    "category": "Memory Optimized",
    "gpuNum": 0,
    "hideHardwareSpecs": false,
    "memoryGiB": 64,
    "name": "ml.r5.2xlarge",
    "vcpuNum": 8
   },
   {
    "_defaultOrder": 42,
    "_isFastLaunch": false,
    "category": "Memory Optimized",
    "gpuNum": 0,
    "hideHardwareSpecs": false,
    "memoryGiB": 128,
    "name": "ml.r5.4xlarge",
    "vcpuNum": 16
   },
   {
    "_defaultOrder": 43,
    "_isFastLaunch": false,
    "category": "Memory Optimized",
    "gpuNum": 0,
    "hideHardwareSpecs": false,
    "memoryGiB": 256,
    "name": "ml.r5.8xlarge",
    "vcpuNum": 32
   },
   {
    "_defaultOrder": 44,
    "_isFastLaunch": false,
    "category": "Memory Optimized",
    "gpuNum": 0,
    "hideHardwareSpecs": false,
    "memoryGiB": 384,
    "name": "ml.r5.12xlarge",
    "vcpuNum": 48
   },
   {
    "_defaultOrder": 45,
    "_isFastLaunch": false,
    "category": "Memory Optimized",
    "gpuNum": 0,
    "hideHardwareSpecs": false,
    "memoryGiB": 512,
    "name": "ml.r5.16xlarge",
    "vcpuNum": 64
   },
   {
    "_defaultOrder": 46,
    "_isFastLaunch": false,
    "category": "Memory Optimized",
    "gpuNum": 0,
    "hideHardwareSpecs": false,
    "memoryGiB": 768,
    "name": "ml.r5.24xlarge",
    "vcpuNum": 96
   },
   {
    "_defaultOrder": 47,
    "_isFastLaunch": false,
    "category": "Accelerated computing",
    "gpuNum": 1,
    "hideHardwareSpecs": false,
    "memoryGiB": 16,
    "name": "ml.g5.xlarge",
    "vcpuNum": 4
   },
   {
    "_defaultOrder": 48,
    "_isFastLaunch": false,
    "category": "Accelerated computing",
    "gpuNum": 1,
    "hideHardwareSpecs": false,
    "memoryGiB": 32,
    "name": "ml.g5.2xlarge",
    "vcpuNum": 8
   },
   {
    "_defaultOrder": 49,
    "_isFastLaunch": false,
    "category": "Accelerated computing",
    "gpuNum": 1,
    "hideHardwareSpecs": false,
    "memoryGiB": 64,
    "name": "ml.g5.4xlarge",
    "vcpuNum": 16
   },
   {
    "_defaultOrder": 50,
    "_isFastLaunch": false,
    "category": "Accelerated computing",
    "gpuNum": 1,
    "hideHardwareSpecs": false,
    "memoryGiB": 128,
    "name": "ml.g5.8xlarge",
    "vcpuNum": 32
   },
   {
    "_defaultOrder": 51,
    "_isFastLaunch": false,
    "category": "Accelerated computing",
    "gpuNum": 1,
    "hideHardwareSpecs": false,
    "memoryGiB": 256,
    "name": "ml.g5.16xlarge",
    "vcpuNum": 64
   },
   {
    "_defaultOrder": 52,
    "_isFastLaunch": false,
    "category": "Accelerated computing",
    "gpuNum": 4,
    "hideHardwareSpecs": false,
    "memoryGiB": 192,
    "name": "ml.g5.12xlarge",
    "vcpuNum": 48
   },
   {
    "_defaultOrder": 53,
    "_isFastLaunch": false,
    "category": "Accelerated computing",
    "gpuNum": 4,
    "hideHardwareSpecs": false,
    "memoryGiB": 384,
    "name": "ml.g5.24xlarge",
    "vcpuNum": 96
   },
   {
    "_defaultOrder": 54,
    "_isFastLaunch": false,
    "category": "Accelerated computing",
    "gpuNum": 8,
    "hideHardwareSpecs": false,
    "memoryGiB": 768,
    "name": "ml.g5.48xlarge",
    "vcpuNum": 192
   },
   {
    "_defaultOrder": 55,
    "_isFastLaunch": false,
    "category": "Accelerated computing",
    "gpuNum": 8,
    "hideHardwareSpecs": false,
    "memoryGiB": 1152,
    "name": "ml.p4d.24xlarge",
    "vcpuNum": 96
   },
   {
    "_defaultOrder": 56,
    "_isFastLaunch": false,
    "category": "Accelerated computing",
    "gpuNum": 8,
    "hideHardwareSpecs": false,
    "memoryGiB": 1152,
    "name": "ml.p4de.24xlarge",
    "vcpuNum": 96
   },
   {
    "_defaultOrder": 57,
    "_isFastLaunch": false,
    "category": "Accelerated computing",
    "gpuNum": 0,
    "hideHardwareSpecs": false,
    "memoryGiB": 32,
    "name": "ml.trn1.2xlarge",
    "vcpuNum": 8
   },
   {
    "_defaultOrder": 58,
    "_isFastLaunch": false,
    "category": "Accelerated computing",
    "gpuNum": 0,
    "hideHardwareSpecs": false,
    "memoryGiB": 512,
    "name": "ml.trn1.32xlarge",
    "vcpuNum": 128
   },
   {
    "_defaultOrder": 59,
    "_isFastLaunch": false,
    "category": "Accelerated computing",
    "gpuNum": 0,
    "hideHardwareSpecs": false,
    "memoryGiB": 512,
    "name": "ml.trn1n.32xlarge",
    "vcpuNum": 128
   }
  ],
  "instance_type": "ml.c5.xlarge",
  "kernelspec": {
   "display_name": "Python 3 (Data Science 3.0)",
   "language": "python",
   "name": "python3__SAGEMAKER_INTERNAL__arn:aws:sagemaker:us-east-1:081325390199:image/sagemaker-data-science-310-v1"
  },
  "language_info": {
   "codemirror_mode": {
    "name": "ipython",
    "version": 3
   },
   "file_extension": ".py",
   "mimetype": "text/x-python",
   "name": "python",
   "nbconvert_exporter": "python",
   "pygments_lexer": "ipython3",
   "version": "3.10.6"
  }
 },
 "nbformat": 4,
 "nbformat_minor": 5
}
